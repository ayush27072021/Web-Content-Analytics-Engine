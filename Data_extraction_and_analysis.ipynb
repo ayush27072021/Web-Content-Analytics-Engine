{
  "nbformat": 4,
  "nbformat_minor": 0,
  "metadata": {
    "colab": {
      "provenance": [],
      "authorship_tag": "ABX9TyPcOAgjMNoWl7FgeLtX1PSh",
      "include_colab_link": true
    },
    "kernelspec": {
      "name": "python3",
      "display_name": "Python 3"
    },
    "language_info": {
      "name": "python"
    }
  },
  "cells": [
    {
      "cell_type": "markdown",
      "metadata": {
        "id": "view-in-github",
        "colab_type": "text"
      },
      "source": [
        "<a href=\"https://colab.research.google.com/github/ayush27072021/Web-Content-Analytics-Engine/blob/main/Data_extraction_and_analysis.ipynb\" target=\"_parent\"><img src=\"https://colab.research.google.com/assets/colab-badge.svg\" alt=\"Open In Colab\"/></a>"
      ]
    },
    {
      "cell_type": "markdown",
      "source": [
        "# **Importing Liberaries**"
      ],
      "metadata": {
        "id": "_T9RwdBzGeh3"
      }
    },
    {
      "cell_type": "code",
      "execution_count": null,
      "metadata": {
        "colab": {
          "base_uri": "https://localhost:8080/"
        },
        "id": "hcySbapce0x4",
        "outputId": "a26285ce-4ee3-4080-aab9-f6850cf272d3"
      },
      "outputs": [
        {
          "output_type": "stream",
          "name": "stderr",
          "text": [
            "[nltk_data] Downloading package punkt to /root/nltk_data...\n",
            "[nltk_data]   Package punkt is already up-to-date!\n"
          ]
        }
      ],
      "source": [
        "#importing library\n",
        "import pandas as pd\n",
        "import requests\n",
        "from bs4 import BeautifulSoup\n",
        "import numpy as np\n",
        "from google.colab import files\n",
        "import nltk\n",
        "import string\n",
        "import concurrent.futures\n",
        "\n",
        "#Natural Language Toolkit for Python\n",
        "nltk.download('punkt')"
      ]
    },
    {
      "cell_type": "markdown",
      "source": [
        "# **Mount Google Drive to access files stored there**"
      ],
      "metadata": {
        "id": "R3vsrCnPGrxY"
      }
    },
    {
      "cell_type": "code",
      "source": [
        "from google.colab import drive\n",
        "drive.mount('/content/drive')"
      ],
      "metadata": {
        "colab": {
          "base_uri": "https://localhost:8080/"
        },
        "id": "DplwaBmve886",
        "outputId": "cab258cd-7f85-4f05-8136-5b88d49e3b38"
      },
      "execution_count": null,
      "outputs": [
        {
          "output_type": "stream",
          "name": "stdout",
          "text": [
            "Mounted at /content/drive\n"
          ]
        }
      ]
    },
    {
      "cell_type": "markdown",
      "source": [
        "# **Load URLs from an Excel File**"
      ],
      "metadata": {
        "id": "d-4Ab0DuG8mH"
      }
    },
    {
      "cell_type": "code",
      "source": [
        "#importing input file\n",
        "df=pd.read_excel('/content/drive/MyDrive/Test Assignment/Blackcoffer Data Science/Input.xlsx')[['URL_ID','URL']]\n",
        "df=df.iloc[0:150]\n",
        "df"
      ],
      "metadata": {
        "id": "qF5Wf84ge-1k"
      },
      "execution_count": null,
      "outputs": []
    },
    {
      "cell_type": "markdown",
      "source": [
        "**Remove 'URL_ID' column as it's not needed for processing**"
      ],
      "metadata": {
        "id": "iM9qIOkEHKfF"
      }
    },
    {
      "cell_type": "code",
      "source": [
        "df.drop('URL_ID',axis=1,inplace=True)"
      ],
      "metadata": {
        "id": "N5h0oPBrfIBE"
      },
      "execution_count": null,
      "outputs": []
    },
    {
      "cell_type": "markdown",
      "source": [
        "# **Setting up the directory to save the text files after scraping**"
      ],
      "metadata": {
        "id": "KCAQST4DHWiH"
      }
    },
    {
      "cell_type": "code",
      "source": [
        "import os\n",
        "\n",
        "# Setup the directory where files will be saved\n",
        "save_directory = \"/content/drive/MyDrive/Test Assignment/Blackcoffer Data Science/data extract to text/\"\n",
        "if not os.path.exists(save_directory):\n",
        "    os.makedirs(save_directory)\n",
        "\n",
        "# Loop Over each URL in the dataframe\n",
        "url_id = 1\n",
        "for url in df['URL']:\n",
        "    try:\n",
        "        # Setup the request header for HTTP request\n",
        "        headers = {'User-Agent': 'Mozilla/5.0 (Windows NT 10.0; Win64; x64) AppleWebKit/537.36 (KHTML, like Gecko) Chrome/74.0.3729.169 Safari/537.36'}\n",
        "        page = requests.get(url, headers=headers)\n",
        "        soup = BeautifulSoup(page.content, 'html.parser')\n",
        "\n",
        "        # Check and extract content from the page\n",
        "        content_items = soup.findAll(attrs={'class': 'td-post-content'})\n",
        "        if not content_items:\n",
        "            print(f\"No content found for URL_ID {url_id}\")\n",
        "            continue\n",
        "        content_text = content_items[0].text.replace('\\xa0', \" \").replace('\\n', \" \")\n",
        "\n",
        "        # Check and extract title from the page\n",
        "        title_items = soup.findAll(attrs={'class': 'entry-title'})\n",
        "        if not title_items:\n",
        "            print(f\"No title found for URL_ID {url_id}\")\n",
        "            continue\n",
        "        title_text = title_items[0].text.replace('\\n', \" \").replace('/', \"\")\n",
        "\n",
        "        # Combine title and content for full text\n",
        "        text = title_text + '.' + content_text\n",
        "\n",
        "        # Save the combined text to a file\n",
        "        filename = os.path.join(save_directory, f\"{url_id}.txt\")\n",
        "        with open(filename, 'w') as f:\n",
        "            f.write(text + '\\n')  # Directly write the text string with a newline character.\n",
        "\n",
        "        print(f\"Processed and saved {filename}\")\n",
        "    except Exception as e:\n",
        "        print(f\"Error processing URL_ID {url_id}: {str(e)}\")\n",
        "\n",
        "    url_id += 1\n"
      ],
      "metadata": {
        "colab": {
          "base_uri": "https://localhost:8080/"
        },
        "id": "caCPgfy9fImj",
        "outputId": "909ae091-d7e3-4d09-9154-142bd3d9b114"
      },
      "execution_count": null,
      "outputs": [
        {
          "output_type": "stream",
          "name": "stdout",
          "text": [
            "Processed and saved /content/drive/MyDrive/Test Assignment/Blackcoffer Data Science/data extract to text/1.txt\n",
            "Processed and saved /content/drive/MyDrive/Test Assignment/Blackcoffer Data Science/data extract to text/2.txt\n",
            "Processed and saved /content/drive/MyDrive/Test Assignment/Blackcoffer Data Science/data extract to text/3.txt\n",
            "Processed and saved /content/drive/MyDrive/Test Assignment/Blackcoffer Data Science/data extract to text/4.txt\n",
            "Processed and saved /content/drive/MyDrive/Test Assignment/Blackcoffer Data Science/data extract to text/5.txt\n",
            "Processed and saved /content/drive/MyDrive/Test Assignment/Blackcoffer Data Science/data extract to text/6.txt\n",
            "Processed and saved /content/drive/MyDrive/Test Assignment/Blackcoffer Data Science/data extract to text/7.txt\n",
            "Processed and saved /content/drive/MyDrive/Test Assignment/Blackcoffer Data Science/data extract to text/8.txt\n",
            "Processed and saved /content/drive/MyDrive/Test Assignment/Blackcoffer Data Science/data extract to text/9.txt\n",
            "Processed and saved /content/drive/MyDrive/Test Assignment/Blackcoffer Data Science/data extract to text/10.txt\n",
            "Processed and saved /content/drive/MyDrive/Test Assignment/Blackcoffer Data Science/data extract to text/11.txt\n",
            "Processed and saved /content/drive/MyDrive/Test Assignment/Blackcoffer Data Science/data extract to text/12.txt\n",
            "Processed and saved /content/drive/MyDrive/Test Assignment/Blackcoffer Data Science/data extract to text/13.txt\n",
            "Processed and saved /content/drive/MyDrive/Test Assignment/Blackcoffer Data Science/data extract to text/14.txt\n",
            "Processed and saved /content/drive/MyDrive/Test Assignment/Blackcoffer Data Science/data extract to text/15.txt\n",
            "Processed and saved /content/drive/MyDrive/Test Assignment/Blackcoffer Data Science/data extract to text/16.txt\n",
            "Processed and saved /content/drive/MyDrive/Test Assignment/Blackcoffer Data Science/data extract to text/17.txt\n",
            "Processed and saved /content/drive/MyDrive/Test Assignment/Blackcoffer Data Science/data extract to text/18.txt\n",
            "Processed and saved /content/drive/MyDrive/Test Assignment/Blackcoffer Data Science/data extract to text/19.txt\n",
            "Processed and saved /content/drive/MyDrive/Test Assignment/Blackcoffer Data Science/data extract to text/20.txt\n",
            "Processed and saved /content/drive/MyDrive/Test Assignment/Blackcoffer Data Science/data extract to text/21.txt\n",
            "Processed and saved /content/drive/MyDrive/Test Assignment/Blackcoffer Data Science/data extract to text/22.txt\n",
            "Processed and saved /content/drive/MyDrive/Test Assignment/Blackcoffer Data Science/data extract to text/23.txt\n",
            "Processed and saved /content/drive/MyDrive/Test Assignment/Blackcoffer Data Science/data extract to text/24.txt\n",
            "Processed and saved /content/drive/MyDrive/Test Assignment/Blackcoffer Data Science/data extract to text/25.txt\n",
            "Processed and saved /content/drive/MyDrive/Test Assignment/Blackcoffer Data Science/data extract to text/26.txt\n",
            "Processed and saved /content/drive/MyDrive/Test Assignment/Blackcoffer Data Science/data extract to text/27.txt\n",
            "Processed and saved /content/drive/MyDrive/Test Assignment/Blackcoffer Data Science/data extract to text/28.txt\n",
            "Processed and saved /content/drive/MyDrive/Test Assignment/Blackcoffer Data Science/data extract to text/29.txt\n",
            "Processed and saved /content/drive/MyDrive/Test Assignment/Blackcoffer Data Science/data extract to text/30.txt\n",
            "Processed and saved /content/drive/MyDrive/Test Assignment/Blackcoffer Data Science/data extract to text/31.txt\n",
            "Processed and saved /content/drive/MyDrive/Test Assignment/Blackcoffer Data Science/data extract to text/32.txt\n",
            "Processed and saved /content/drive/MyDrive/Test Assignment/Blackcoffer Data Science/data extract to text/33.txt\n",
            "Processed and saved /content/drive/MyDrive/Test Assignment/Blackcoffer Data Science/data extract to text/34.txt\n",
            "Processed and saved /content/drive/MyDrive/Test Assignment/Blackcoffer Data Science/data extract to text/35.txt\n",
            "No content found for URL_ID 36\n",
            "Processed and saved /content/drive/MyDrive/Test Assignment/Blackcoffer Data Science/data extract to text/36.txt\n",
            "Processed and saved /content/drive/MyDrive/Test Assignment/Blackcoffer Data Science/data extract to text/37.txt\n",
            "Processed and saved /content/drive/MyDrive/Test Assignment/Blackcoffer Data Science/data extract to text/38.txt\n",
            "Processed and saved /content/drive/MyDrive/Test Assignment/Blackcoffer Data Science/data extract to text/39.txt\n",
            "Processed and saved /content/drive/MyDrive/Test Assignment/Blackcoffer Data Science/data extract to text/40.txt\n",
            "Processed and saved /content/drive/MyDrive/Test Assignment/Blackcoffer Data Science/data extract to text/41.txt\n",
            "Processed and saved /content/drive/MyDrive/Test Assignment/Blackcoffer Data Science/data extract to text/42.txt\n",
            "Processed and saved /content/drive/MyDrive/Test Assignment/Blackcoffer Data Science/data extract to text/43.txt\n",
            "Processed and saved /content/drive/MyDrive/Test Assignment/Blackcoffer Data Science/data extract to text/44.txt\n",
            "Processed and saved /content/drive/MyDrive/Test Assignment/Blackcoffer Data Science/data extract to text/45.txt\n",
            "Processed and saved /content/drive/MyDrive/Test Assignment/Blackcoffer Data Science/data extract to text/46.txt\n",
            "Processed and saved /content/drive/MyDrive/Test Assignment/Blackcoffer Data Science/data extract to text/47.txt\n",
            "No content found for URL_ID 48\n",
            "Processed and saved /content/drive/MyDrive/Test Assignment/Blackcoffer Data Science/data extract to text/48.txt\n",
            "Processed and saved /content/drive/MyDrive/Test Assignment/Blackcoffer Data Science/data extract to text/49.txt\n",
            "Processed and saved /content/drive/MyDrive/Test Assignment/Blackcoffer Data Science/data extract to text/50.txt\n",
            "Processed and saved /content/drive/MyDrive/Test Assignment/Blackcoffer Data Science/data extract to text/51.txt\n",
            "Processed and saved /content/drive/MyDrive/Test Assignment/Blackcoffer Data Science/data extract to text/52.txt\n",
            "Processed and saved /content/drive/MyDrive/Test Assignment/Blackcoffer Data Science/data extract to text/53.txt\n",
            "Processed and saved /content/drive/MyDrive/Test Assignment/Blackcoffer Data Science/data extract to text/54.txt\n",
            "Processed and saved /content/drive/MyDrive/Test Assignment/Blackcoffer Data Science/data extract to text/55.txt\n",
            "Processed and saved /content/drive/MyDrive/Test Assignment/Blackcoffer Data Science/data extract to text/56.txt\n",
            "Processed and saved /content/drive/MyDrive/Test Assignment/Blackcoffer Data Science/data extract to text/57.txt\n",
            "Processed and saved /content/drive/MyDrive/Test Assignment/Blackcoffer Data Science/data extract to text/58.txt\n",
            "Processed and saved /content/drive/MyDrive/Test Assignment/Blackcoffer Data Science/data extract to text/59.txt\n",
            "Processed and saved /content/drive/MyDrive/Test Assignment/Blackcoffer Data Science/data extract to text/60.txt\n",
            "Processed and saved /content/drive/MyDrive/Test Assignment/Blackcoffer Data Science/data extract to text/61.txt\n",
            "Processed and saved /content/drive/MyDrive/Test Assignment/Blackcoffer Data Science/data extract to text/62.txt\n",
            "Processed and saved /content/drive/MyDrive/Test Assignment/Blackcoffer Data Science/data extract to text/63.txt\n",
            "Processed and saved /content/drive/MyDrive/Test Assignment/Blackcoffer Data Science/data extract to text/64.txt\n",
            "Processed and saved /content/drive/MyDrive/Test Assignment/Blackcoffer Data Science/data extract to text/65.txt\n",
            "Processed and saved /content/drive/MyDrive/Test Assignment/Blackcoffer Data Science/data extract to text/66.txt\n",
            "Processed and saved /content/drive/MyDrive/Test Assignment/Blackcoffer Data Science/data extract to text/67.txt\n",
            "Processed and saved /content/drive/MyDrive/Test Assignment/Blackcoffer Data Science/data extract to text/68.txt\n",
            "Processed and saved /content/drive/MyDrive/Test Assignment/Blackcoffer Data Science/data extract to text/69.txt\n",
            "Processed and saved /content/drive/MyDrive/Test Assignment/Blackcoffer Data Science/data extract to text/70.txt\n",
            "Processed and saved /content/drive/MyDrive/Test Assignment/Blackcoffer Data Science/data extract to text/71.txt\n",
            "Processed and saved /content/drive/MyDrive/Test Assignment/Blackcoffer Data Science/data extract to text/72.txt\n",
            "Processed and saved /content/drive/MyDrive/Test Assignment/Blackcoffer Data Science/data extract to text/73.txt\n",
            "Processed and saved /content/drive/MyDrive/Test Assignment/Blackcoffer Data Science/data extract to text/74.txt\n",
            "No content found for URL_ID 75\n",
            "Processed and saved /content/drive/MyDrive/Test Assignment/Blackcoffer Data Science/data extract to text/75.txt\n",
            "Processed and saved /content/drive/MyDrive/Test Assignment/Blackcoffer Data Science/data extract to text/76.txt\n",
            "Processed and saved /content/drive/MyDrive/Test Assignment/Blackcoffer Data Science/data extract to text/77.txt\n",
            "Processed and saved /content/drive/MyDrive/Test Assignment/Blackcoffer Data Science/data extract to text/78.txt\n",
            "Processed and saved /content/drive/MyDrive/Test Assignment/Blackcoffer Data Science/data extract to text/79.txt\n",
            "Processed and saved /content/drive/MyDrive/Test Assignment/Blackcoffer Data Science/data extract to text/80.txt\n",
            "Processed and saved /content/drive/MyDrive/Test Assignment/Blackcoffer Data Science/data extract to text/81.txt\n",
            "Processed and saved /content/drive/MyDrive/Test Assignment/Blackcoffer Data Science/data extract to text/82.txt\n",
            "Processed and saved /content/drive/MyDrive/Test Assignment/Blackcoffer Data Science/data extract to text/83.txt\n",
            "Processed and saved /content/drive/MyDrive/Test Assignment/Blackcoffer Data Science/data extract to text/84.txt\n",
            "Processed and saved /content/drive/MyDrive/Test Assignment/Blackcoffer Data Science/data extract to text/85.txt\n",
            "Processed and saved /content/drive/MyDrive/Test Assignment/Blackcoffer Data Science/data extract to text/86.txt\n",
            "Processed and saved /content/drive/MyDrive/Test Assignment/Blackcoffer Data Science/data extract to text/87.txt\n",
            "Processed and saved /content/drive/MyDrive/Test Assignment/Blackcoffer Data Science/data extract to text/88.txt\n",
            "Processed and saved /content/drive/MyDrive/Test Assignment/Blackcoffer Data Science/data extract to text/89.txt\n",
            "Processed and saved /content/drive/MyDrive/Test Assignment/Blackcoffer Data Science/data extract to text/90.txt\n",
            "Processed and saved /content/drive/MyDrive/Test Assignment/Blackcoffer Data Science/data extract to text/91.txt\n",
            "Processed and saved /content/drive/MyDrive/Test Assignment/Blackcoffer Data Science/data extract to text/92.txt\n",
            "Processed and saved /content/drive/MyDrive/Test Assignment/Blackcoffer Data Science/data extract to text/93.txt\n",
            "Processed and saved /content/drive/MyDrive/Test Assignment/Blackcoffer Data Science/data extract to text/94.txt\n",
            "Processed and saved /content/drive/MyDrive/Test Assignment/Blackcoffer Data Science/data extract to text/95.txt\n",
            "Processed and saved /content/drive/MyDrive/Test Assignment/Blackcoffer Data Science/data extract to text/96.txt\n",
            "Processed and saved /content/drive/MyDrive/Test Assignment/Blackcoffer Data Science/data extract to text/97.txt\n"
          ]
        }
      ]
    },
    {
      "cell_type": "markdown",
      "source": [
        "# **Data Analysis**"
      ],
      "metadata": {
        "id": "Xr1UaxvbvmSm"
      }
    },
    {
      "cell_type": "code",
      "source": [
        "#importing each text files for processing\n",
        "text=pd.read_csv(\"/content/drive/MyDrive/Test Assignment/Blackcoffer Data Science/data extract to text/11.txt\",header=None)"
      ],
      "metadata": {
        "id": "3sUpRTHpfL-8"
      },
      "execution_count": null,
      "outputs": []
    },
    {
      "cell_type": "code",
      "source": [
        "# Display information about the DataFrame to understand its structure\n",
        "text.info()"
      ],
      "metadata": {
        "colab": {
          "base_uri": "https://localhost:8080/"
        },
        "id": "v1EeRGfGfOMC",
        "outputId": "ece094de-e4d5-4a4f-bc1b-6248f8a24a7b"
      },
      "execution_count": null,
      "outputs": [
        {
          "output_type": "stream",
          "name": "stdout",
          "text": [
            "<class 'pandas.core.frame.DataFrame'>\n",
            "RangeIndex: 1 entries, 0 to 0\n",
            "Data columns (total 81 columns):\n",
            " #   Column  Non-Null Count  Dtype \n",
            "---  ------  --------------  ----- \n",
            " 0   0       1 non-null      object\n",
            " 1   1       1 non-null      object\n",
            " 2   2       1 non-null      object\n",
            " 3   3       1 non-null      object\n",
            " 4   4       1 non-null      object\n",
            " 5   5       1 non-null      object\n",
            " 6   6       1 non-null      object\n",
            " 7   7       1 non-null      object\n",
            " 8   8       1 non-null      object\n",
            " 9   9       1 non-null      object\n",
            " 10  10      1 non-null      object\n",
            " 11  11      1 non-null      object\n",
            " 12  12      1 non-null      object\n",
            " 13  13      1 non-null      object\n",
            " 14  14      1 non-null      object\n",
            " 15  15      1 non-null      object\n",
            " 16  16      1 non-null      object\n",
            " 17  17      1 non-null      object\n",
            " 18  18      1 non-null      object\n",
            " 19  19      1 non-null      object\n",
            " 20  20      1 non-null      object\n",
            " 21  21      1 non-null      object\n",
            " 22  22      1 non-null      object\n",
            " 23  23      1 non-null      object\n",
            " 24  24      1 non-null      object\n",
            " 25  25      1 non-null      object\n",
            " 26  26      1 non-null      object\n",
            " 27  27      1 non-null      object\n",
            " 28  28      1 non-null      object\n",
            " 29  29      1 non-null      object\n",
            " 30  30      1 non-null      object\n",
            " 31  31      1 non-null      object\n",
            " 32  32      1 non-null      object\n",
            " 33  33      1 non-null      object\n",
            " 34  34      1 non-null      object\n",
            " 35  35      1 non-null      object\n",
            " 36  36      1 non-null      object\n",
            " 37  37      1 non-null      object\n",
            " 38  38      1 non-null      object\n",
            " 39  39      1 non-null      object\n",
            " 40  40      1 non-null      object\n",
            " 41  41      1 non-null      object\n",
            " 42  42      1 non-null      object\n",
            " 43  43      1 non-null      object\n",
            " 44  44      1 non-null      object\n",
            " 45  45      1 non-null      object\n",
            " 46  46      1 non-null      object\n",
            " 47  47      1 non-null      object\n",
            " 48  48      1 non-null      object\n",
            " 49  49      1 non-null      object\n",
            " 50  50      1 non-null      object\n",
            " 51  51      1 non-null      object\n",
            " 52  52      1 non-null      object\n",
            " 53  53      1 non-null      object\n",
            " 54  54      1 non-null      object\n",
            " 55  55      1 non-null      object\n",
            " 56  56      1 non-null      object\n",
            " 57  57      1 non-null      object\n",
            " 58  58      1 non-null      object\n",
            " 59  59      1 non-null      object\n",
            " 60  60      1 non-null      object\n",
            " 61  61      1 non-null      object\n",
            " 62  62      1 non-null      object\n",
            " 63  63      1 non-null      object\n",
            " 64  64      1 non-null      object\n",
            " 65  65      1 non-null      object\n",
            " 66  66      1 non-null      object\n",
            " 67  67      1 non-null      object\n",
            " 68  68      1 non-null      object\n",
            " 69  69      1 non-null      object\n",
            " 70  70      1 non-null      object\n",
            " 71  71      1 non-null      object\n",
            " 72  72      1 non-null      object\n",
            " 73  73      1 non-null      object\n",
            " 74  74      1 non-null      object\n",
            " 75  75      1 non-null      object\n",
            " 76  76      1 non-null      object\n",
            " 77  77      1 non-null      object\n",
            " 78  78      1 non-null      object\n",
            " 79  79      1 non-null      object\n",
            " 80  80      1 non-null      object\n",
            "dtypes: object(81)\n",
            "memory usage: 776.0+ bytes\n"
          ]
        }
      ]
    },
    {
      "cell_type": "code",
      "source": [
        "# Drop any extra created columns that are not needed for further analysis\n",
        "text.drop(1,axis=1,inplace=True)"
      ],
      "metadata": {
        "id": "fBSQjS-efP1O"
      },
      "execution_count": null,
      "outputs": []
    },
    {
      "cell_type": "code",
      "source": [
        "# Ensure all data in the text DataFrame is treated as string type for consistent processing\n",
        "text=text.astype(str)"
      ],
      "metadata": {
        "id": "ZGBm8rzXfUJw"
      },
      "execution_count": null,
      "outputs": []
    },
    {
      "cell_type": "code",
      "source": [
        "# Slpi text into sentences based on periods followed by spaces\n",
        "import re\n",
        "a=text[0].str.split('([\\.]\\s)',expand=False)#splitting text on '.'\n",
        "b=a.explode()#converting to rows\n",
        "b=pd.DataFrame(b)#creating data frame\n",
        "b.columns=['abc']"
      ],
      "metadata": {
        "id": "2aRcIXfffVtl"
      },
      "execution_count": null,
      "outputs": []
    },
    {
      "cell_type": "code",
      "source": [
        "# Function to remove periods from each row to clean up sentences\n",
        "def abcd(x):\n",
        "    nopunc =[char for char in x if char != '.']\n",
        "    return ''.join(nopunc)\n",
        "b['abc']=b['abc'].apply(abcd)"
      ],
      "metadata": {
        "id": "dpSrUg-IfXxs"
      },
      "execution_count": null,
      "outputs": []
    },
    {
      "cell_type": "code",
      "source": [
        "# Replace empty strings with NaN to clean the data, then drop these NaN values\n",
        "c=b.replace('',np.nan,regex=True)\n",
        "c=c.mask(c==\" \")\n",
        "c=c.dropna()\n",
        "c.reset_index(drop=True,inplace=True)"
      ],
      "metadata": {
        "id": "GnHBTXcFfZbZ"
      },
      "execution_count": null,
      "outputs": []
    },
    {
      "cell_type": "code",
      "source": [
        "c"
      ],
      "metadata": {
        "colab": {
          "base_uri": "https://localhost:8080/",
          "height": 125
        },
        "id": "UqGK_hwdfbRW",
        "outputId": "d0db6b53-cbcf-44e9-ccb2-c121ccbca854"
      },
      "execution_count": null,
      "outputs": [
        {
          "output_type": "execute_result",
          "data": {
            "text/plain": [
              "                                                 abc\n",
              "0  Efficient Supply Chain Assessment: Overcoming ...\n",
              "1  ABSTRACT: The rapid development of the Interne..."
            ],
            "text/html": [
              "\n",
              "  <div id=\"df-e6d4762f-7902-4c82-8c5e-2e4eb955e8fb\" class=\"colab-df-container\">\n",
              "    <div>\n",
              "<style scoped>\n",
              "    .dataframe tbody tr th:only-of-type {\n",
              "        vertical-align: middle;\n",
              "    }\n",
              "\n",
              "    .dataframe tbody tr th {\n",
              "        vertical-align: top;\n",
              "    }\n",
              "\n",
              "    .dataframe thead th {\n",
              "        text-align: right;\n",
              "    }\n",
              "</style>\n",
              "<table border=\"1\" class=\"dataframe\">\n",
              "  <thead>\n",
              "    <tr style=\"text-align: right;\">\n",
              "      <th></th>\n",
              "      <th>abc</th>\n",
              "    </tr>\n",
              "  </thead>\n",
              "  <tbody>\n",
              "    <tr>\n",
              "      <th>0</th>\n",
              "      <td>Efficient Supply Chain Assessment: Overcoming ...</td>\n",
              "    </tr>\n",
              "    <tr>\n",
              "      <th>1</th>\n",
              "      <td>ABSTRACT: The rapid development of the Interne...</td>\n",
              "    </tr>\n",
              "  </tbody>\n",
              "</table>\n",
              "</div>\n",
              "    <div class=\"colab-df-buttons\">\n",
              "\n",
              "  <div class=\"colab-df-container\">\n",
              "    <button class=\"colab-df-convert\" onclick=\"convertToInteractive('df-e6d4762f-7902-4c82-8c5e-2e4eb955e8fb')\"\n",
              "            title=\"Convert this dataframe to an interactive table.\"\n",
              "            style=\"display:none;\">\n",
              "\n",
              "  <svg xmlns=\"http://www.w3.org/2000/svg\" height=\"24px\" viewBox=\"0 -960 960 960\">\n",
              "    <path d=\"M120-120v-720h720v720H120Zm60-500h600v-160H180v160Zm220 220h160v-160H400v160Zm0 220h160v-160H400v160ZM180-400h160v-160H180v160Zm440 0h160v-160H620v160ZM180-180h160v-160H180v160Zm440 0h160v-160H620v160Z\"/>\n",
              "  </svg>\n",
              "    </button>\n",
              "\n",
              "  <style>\n",
              "    .colab-df-container {\n",
              "      display:flex;\n",
              "      gap: 12px;\n",
              "    }\n",
              "\n",
              "    .colab-df-convert {\n",
              "      background-color: #E8F0FE;\n",
              "      border: none;\n",
              "      border-radius: 50%;\n",
              "      cursor: pointer;\n",
              "      display: none;\n",
              "      fill: #1967D2;\n",
              "      height: 32px;\n",
              "      padding: 0 0 0 0;\n",
              "      width: 32px;\n",
              "    }\n",
              "\n",
              "    .colab-df-convert:hover {\n",
              "      background-color: #E2EBFA;\n",
              "      box-shadow: 0px 1px 2px rgba(60, 64, 67, 0.3), 0px 1px 3px 1px rgba(60, 64, 67, 0.15);\n",
              "      fill: #174EA6;\n",
              "    }\n",
              "\n",
              "    .colab-df-buttons div {\n",
              "      margin-bottom: 4px;\n",
              "    }\n",
              "\n",
              "    [theme=dark] .colab-df-convert {\n",
              "      background-color: #3B4455;\n",
              "      fill: #D2E3FC;\n",
              "    }\n",
              "\n",
              "    [theme=dark] .colab-df-convert:hover {\n",
              "      background-color: #434B5C;\n",
              "      box-shadow: 0px 1px 3px 1px rgba(0, 0, 0, 0.15);\n",
              "      filter: drop-shadow(0px 1px 2px rgba(0, 0, 0, 0.3));\n",
              "      fill: #FFFFFF;\n",
              "    }\n",
              "  </style>\n",
              "\n",
              "    <script>\n",
              "      const buttonEl =\n",
              "        document.querySelector('#df-e6d4762f-7902-4c82-8c5e-2e4eb955e8fb button.colab-df-convert');\n",
              "      buttonEl.style.display =\n",
              "        google.colab.kernel.accessAllowed ? 'block' : 'none';\n",
              "\n",
              "      async function convertToInteractive(key) {\n",
              "        const element = document.querySelector('#df-e6d4762f-7902-4c82-8c5e-2e4eb955e8fb');\n",
              "        const dataTable =\n",
              "          await google.colab.kernel.invokeFunction('convertToInteractive',\n",
              "                                                    [key], {});\n",
              "        if (!dataTable) return;\n",
              "\n",
              "        const docLinkHtml = 'Like what you see? Visit the ' +\n",
              "          '<a target=\"_blank\" href=https://colab.research.google.com/notebooks/data_table.ipynb>data table notebook</a>'\n",
              "          + ' to learn more about interactive tables.';\n",
              "        element.innerHTML = '';\n",
              "        dataTable['output_type'] = 'display_data';\n",
              "        await google.colab.output.renderOutput(dataTable, element);\n",
              "        const docLink = document.createElement('div');\n",
              "        docLink.innerHTML = docLinkHtml;\n",
              "        element.appendChild(docLink);\n",
              "      }\n",
              "    </script>\n",
              "  </div>\n",
              "\n",
              "\n",
              "<div id=\"df-a39e6205-05fa-4f8c-b3d0-638cc1be81c1\">\n",
              "  <button class=\"colab-df-quickchart\" onclick=\"quickchart('df-a39e6205-05fa-4f8c-b3d0-638cc1be81c1')\"\n",
              "            title=\"Suggest charts\"\n",
              "            style=\"display:none;\">\n",
              "\n",
              "<svg xmlns=\"http://www.w3.org/2000/svg\" height=\"24px\"viewBox=\"0 0 24 24\"\n",
              "     width=\"24px\">\n",
              "    <g>\n",
              "        <path d=\"M19 3H5c-1.1 0-2 .9-2 2v14c0 1.1.9 2 2 2h14c1.1 0 2-.9 2-2V5c0-1.1-.9-2-2-2zM9 17H7v-7h2v7zm4 0h-2V7h2v10zm4 0h-2v-4h2v4z\"/>\n",
              "    </g>\n",
              "</svg>\n",
              "  </button>\n",
              "\n",
              "<style>\n",
              "  .colab-df-quickchart {\n",
              "      --bg-color: #E8F0FE;\n",
              "      --fill-color: #1967D2;\n",
              "      --hover-bg-color: #E2EBFA;\n",
              "      --hover-fill-color: #174EA6;\n",
              "      --disabled-fill-color: #AAA;\n",
              "      --disabled-bg-color: #DDD;\n",
              "  }\n",
              "\n",
              "  [theme=dark] .colab-df-quickchart {\n",
              "      --bg-color: #3B4455;\n",
              "      --fill-color: #D2E3FC;\n",
              "      --hover-bg-color: #434B5C;\n",
              "      --hover-fill-color: #FFFFFF;\n",
              "      --disabled-bg-color: #3B4455;\n",
              "      --disabled-fill-color: #666;\n",
              "  }\n",
              "\n",
              "  .colab-df-quickchart {\n",
              "    background-color: var(--bg-color);\n",
              "    border: none;\n",
              "    border-radius: 50%;\n",
              "    cursor: pointer;\n",
              "    display: none;\n",
              "    fill: var(--fill-color);\n",
              "    height: 32px;\n",
              "    padding: 0;\n",
              "    width: 32px;\n",
              "  }\n",
              "\n",
              "  .colab-df-quickchart:hover {\n",
              "    background-color: var(--hover-bg-color);\n",
              "    box-shadow: 0 1px 2px rgba(60, 64, 67, 0.3), 0 1px 3px 1px rgba(60, 64, 67, 0.15);\n",
              "    fill: var(--button-hover-fill-color);\n",
              "  }\n",
              "\n",
              "  .colab-df-quickchart-complete:disabled,\n",
              "  .colab-df-quickchart-complete:disabled:hover {\n",
              "    background-color: var(--disabled-bg-color);\n",
              "    fill: var(--disabled-fill-color);\n",
              "    box-shadow: none;\n",
              "  }\n",
              "\n",
              "  .colab-df-spinner {\n",
              "    border: 2px solid var(--fill-color);\n",
              "    border-color: transparent;\n",
              "    border-bottom-color: var(--fill-color);\n",
              "    animation:\n",
              "      spin 1s steps(1) infinite;\n",
              "  }\n",
              "\n",
              "  @keyframes spin {\n",
              "    0% {\n",
              "      border-color: transparent;\n",
              "      border-bottom-color: var(--fill-color);\n",
              "      border-left-color: var(--fill-color);\n",
              "    }\n",
              "    20% {\n",
              "      border-color: transparent;\n",
              "      border-left-color: var(--fill-color);\n",
              "      border-top-color: var(--fill-color);\n",
              "    }\n",
              "    30% {\n",
              "      border-color: transparent;\n",
              "      border-left-color: var(--fill-color);\n",
              "      border-top-color: var(--fill-color);\n",
              "      border-right-color: var(--fill-color);\n",
              "    }\n",
              "    40% {\n",
              "      border-color: transparent;\n",
              "      border-right-color: var(--fill-color);\n",
              "      border-top-color: var(--fill-color);\n",
              "    }\n",
              "    60% {\n",
              "      border-color: transparent;\n",
              "      border-right-color: var(--fill-color);\n",
              "    }\n",
              "    80% {\n",
              "      border-color: transparent;\n",
              "      border-right-color: var(--fill-color);\n",
              "      border-bottom-color: var(--fill-color);\n",
              "    }\n",
              "    90% {\n",
              "      border-color: transparent;\n",
              "      border-bottom-color: var(--fill-color);\n",
              "    }\n",
              "  }\n",
              "</style>\n",
              "\n",
              "  <script>\n",
              "    async function quickchart(key) {\n",
              "      const quickchartButtonEl =\n",
              "        document.querySelector('#' + key + ' button');\n",
              "      quickchartButtonEl.disabled = true;  // To prevent multiple clicks.\n",
              "      quickchartButtonEl.classList.add('colab-df-spinner');\n",
              "      try {\n",
              "        const charts = await google.colab.kernel.invokeFunction(\n",
              "            'suggestCharts', [key], {});\n",
              "      } catch (error) {\n",
              "        console.error('Error during call to suggestCharts:', error);\n",
              "      }\n",
              "      quickchartButtonEl.classList.remove('colab-df-spinner');\n",
              "      quickchartButtonEl.classList.add('colab-df-quickchart-complete');\n",
              "    }\n",
              "    (() => {\n",
              "      let quickchartButtonEl =\n",
              "        document.querySelector('#df-a39e6205-05fa-4f8c-b3d0-638cc1be81c1 button');\n",
              "      quickchartButtonEl.style.display =\n",
              "        google.colab.kernel.accessAllowed ? 'block' : 'none';\n",
              "    })();\n",
              "  </script>\n",
              "</div>\n",
              "\n",
              "  <div id=\"id_15b2e339-1c00-41d4-92e8-9826a3945cea\">\n",
              "    <style>\n",
              "      .colab-df-generate {\n",
              "        background-color: #E8F0FE;\n",
              "        border: none;\n",
              "        border-radius: 50%;\n",
              "        cursor: pointer;\n",
              "        display: none;\n",
              "        fill: #1967D2;\n",
              "        height: 32px;\n",
              "        padding: 0 0 0 0;\n",
              "        width: 32px;\n",
              "      }\n",
              "\n",
              "      .colab-df-generate:hover {\n",
              "        background-color: #E2EBFA;\n",
              "        box-shadow: 0px 1px 2px rgba(60, 64, 67, 0.3), 0px 1px 3px 1px rgba(60, 64, 67, 0.15);\n",
              "        fill: #174EA6;\n",
              "      }\n",
              "\n",
              "      [theme=dark] .colab-df-generate {\n",
              "        background-color: #3B4455;\n",
              "        fill: #D2E3FC;\n",
              "      }\n",
              "\n",
              "      [theme=dark] .colab-df-generate:hover {\n",
              "        background-color: #434B5C;\n",
              "        box-shadow: 0px 1px 3px 1px rgba(0, 0, 0, 0.15);\n",
              "        filter: drop-shadow(0px 1px 2px rgba(0, 0, 0, 0.3));\n",
              "        fill: #FFFFFF;\n",
              "      }\n",
              "    </style>\n",
              "    <button class=\"colab-df-generate\" onclick=\"generateWithVariable('c')\"\n",
              "            title=\"Generate code using this dataframe.\"\n",
              "            style=\"display:none;\">\n",
              "\n",
              "  <svg xmlns=\"http://www.w3.org/2000/svg\" height=\"24px\"viewBox=\"0 0 24 24\"\n",
              "       width=\"24px\">\n",
              "    <path d=\"M7,19H8.4L18.45,9,17,7.55,7,17.6ZM5,21V16.75L18.45,3.32a2,2,0,0,1,2.83,0l1.4,1.43a1.91,1.91,0,0,1,.58,1.4,1.91,1.91,0,0,1-.58,1.4L9.25,21ZM18.45,9,17,7.55Zm-12,3A5.31,5.31,0,0,0,4.9,8.1,5.31,5.31,0,0,0,1,6.5,5.31,5.31,0,0,0,4.9,4.9,5.31,5.31,0,0,0,6.5,1,5.31,5.31,0,0,0,8.1,4.9,5.31,5.31,0,0,0,12,6.5,5.46,5.46,0,0,0,6.5,12Z\"/>\n",
              "  </svg>\n",
              "    </button>\n",
              "    <script>\n",
              "      (() => {\n",
              "      const buttonEl =\n",
              "        document.querySelector('#id_15b2e339-1c00-41d4-92e8-9826a3945cea button.colab-df-generate');\n",
              "      buttonEl.style.display =\n",
              "        google.colab.kernel.accessAllowed ? 'block' : 'none';\n",
              "\n",
              "      buttonEl.onclick = () => {\n",
              "        google.colab.notebook.generateWithVariable('c');\n",
              "      }\n",
              "      })();\n",
              "    </script>\n",
              "  </div>\n",
              "\n",
              "    </div>\n",
              "  </div>\n"
            ],
            "application/vnd.google.colaboratory.intrinsic+json": {
              "type": "dataframe",
              "variable_name": "c",
              "summary": "{\n  \"name\": \"c\",\n  \"rows\": 2,\n  \"fields\": [\n    {\n      \"column\": \"abc\",\n      \"properties\": {\n        \"dtype\": \"string\",\n        \"num_unique_values\": 2,\n        \"samples\": [\n          \"ABSTRACT: The rapid development of the Internet has changed the ways in which we work\",\n          \"Efficient Supply Chain Assessment: Overcoming Technical Hurdles for Web Application Development\"\n        ],\n        \"semantic_type\": \"\",\n        \"description\": \"\"\n      }\n    }\n  ]\n}"
            }
          },
          "metadata": {},
          "execution_count": 18
        }
      ]
    },
    {
      "source": [
        "# @title abc\n",
        "\n",
        "from matplotlib import pyplot as plt\n",
        "import seaborn as sns\n",
        "c.groupby('abc').size().plot(kind='barh', color=sns.palettes.mpl_palette('Dark2'))\n",
        "plt.gca().spines[['top', 'right',]].set_visible(False)"
      ],
      "cell_type": "code",
      "execution_count": null,
      "outputs": [
        {
          "output_type": "display_data",
          "data": {
            "text/plain": [
              "<Figure size 640x480 with 1 Axes>"
            ],
            "image/png": "[encoded data removed]"
          },
          "metadata": {}
        }
      ],
      "metadata": {
        "cellView": "form",
        "colab": {
          "base_uri": "https://localhost:8080/",
          "height": 294
        },
        "id": "o0FF07tpAVOA",
        "outputId": "bffd8f99-546f-4ea9-b2e3-7165ffd26973"
      }
    },
    {
      "cell_type": "code",
      "source": [
        "# List all punctuation for further text processing\n",
        "punc=[punc for punc in string.punctuation]"
      ],
      "metadata": {
        "id": "_mtHTs7dfeKx"
      },
      "execution_count": null,
      "outputs": []
    },
    {
      "cell_type": "code",
      "source": [
        "punc"
      ],
      "metadata": {
        "colab": {
          "base_uri": "https://localhost:8080/"
        },
        "id": "A0eo1POkff2I",
        "outputId": "9abbb163-9272-40fc-f327-0a2c9607bcc8"
      },
      "execution_count": null,
      "outputs": [
        {
          "output_type": "execute_result",
          "data": {
            "text/plain": [
              "['!',\n",
              " '\"',\n",
              " '#',\n",
              " '$',\n",
              " '%',\n",
              " '&',\n",
              " \"'\",\n",
              " '(',\n",
              " ')',\n",
              " '*',\n",
              " '+',\n",
              " ',',\n",
              " '-',\n",
              " '.',\n",
              " '/',\n",
              " ':',\n",
              " ';',\n",
              " '<',\n",
              " '=',\n",
              " '>',\n",
              " '?',\n",
              " '@',\n",
              " '[',\n",
              " '\\\\',\n",
              " ']',\n",
              " '^',\n",
              " '_',\n",
              " '`',\n",
              " '{',\n",
              " '|',\n",
              " '}',\n",
              " '~']"
            ]
          },
          "metadata": {},
          "execution_count": 22
        }
      ]
    },
    {
      "cell_type": "code",
      "source": [
        "# Function to load stopwords from a file, ensuring each stopword is read correctly\n",
        "def read_stopwords(file_path):\n",
        "    with open(file_path, 'r', encoding='ISO-8859-1') as file:  # Using ISO-8859-1 as it's common for text files\n",
        "        stopwords = [line.strip() for line in file if line.strip()]  # Removes any trailing newlines and ignores empty lines\n",
        "    return stopwords\n",
        "\n",
        "# Specifying the path for each stop words list\n",
        "stopwords_auditor_path = \"/content/drive/MyDrive/Test Assignment/Blackcoffer Data Science/StopWords-20240423T071015Z-001/StopWords/StopWords_Auditor.txt\"\n",
        "stopwords_currencies_path = \"/content/drive/MyDrive/Test Assignment/Blackcoffer Data Science/StopWords-20240423T071015Z-001/StopWords/StopWords_Currencies.txt\"\n",
        "stopwords_datesandnumbers_path = \"/content/drive/MyDrive/Test Assignment/Blackcoffer Data Science/StopWords-20240423T071015Z-001/StopWords/StopWords_DatesandNumbers.txt\"\n",
        "stopwords_generic_path = \"/content/drive/MyDrive/Test Assignment/Blackcoffer Data Science/StopWords-20240423T071015Z-001/StopWords/StopWords_Generic.txt\"\n",
        "stopwords_genericlong_path = \"/content/drive/MyDrive/Test Assignment/Blackcoffer Data Science/StopWords-20240423T071015Z-001/StopWords/StopWords_GenericLong.txt\"\n",
        "stopwords_geographic_path = \"/content/drive/MyDrive/Test Assignment/Blackcoffer Data Science/StopWords-20240423T071015Z-001/StopWords/StopWords_Geographic.txt\"\n",
        "stopwords_names_path = \"/content/drive/MyDrive/Test Assignment/Blackcoffer Data Science/StopWords-20240423T071015Z-001/StopWords/StopWords_Names.txt\"\n",
        "\n",
        "# Loading each stop words list using the function\n",
        "StopWords_Auditor = read_stopwords(stopwords_auditor_path)\n",
        "StopWords_Currencies = read_stopwords(stopwords_currencies_path)\n",
        "StopWords_DatesandNumbers = read_stopwords(stopwords_datesandnumbers_path)\n",
        "StopWords_Generic = read_stopwords(stopwords_generic_path)\n",
        "StopWords_GenericLong = read_stopwords(stopwords_genericlong_path)\n",
        "StopWords_Geographic = read_stopwords(stopwords_geographic_path)\n",
        "StopWords_Names = read_stopwords(stopwords_names_path)"
      ],
      "metadata": {
        "id": "FTQT9l4Zfgmf"
      },
      "execution_count": null,
      "outputs": []
    },
    {
      "cell_type": "code",
      "source": [
        "# Function to process text: remove punctuation and filter out stopwords\n",
        "def text_process(text):\n",
        "    # Remove punctuation first\n",
        "    nopunc = ''.join([char for char in text if char not in punc])\n",
        "    # Now split the text into words and filter out stopwords\n",
        "    return ' '.join([word for word in nopunc.split() if word.lower() not in StopWords_Auditor and\n",
        "                                                        word.lower() not in StopWords_Currencies and\n",
        "                                                        word.lower() not in StopWords_DatesandNumbers and\n",
        "                                                        word.lower() not in StopWords_Generic and\n",
        "                                                        word.lower() not in StopWords_GenericLong and\n",
        "                                                        word.lower() not in StopWords_Geographic and\n",
        "                                                        word.lower() not in StopWords_Names])"
      ],
      "metadata": {
        "id": "OzhBmbAyfjC_"
      },
      "execution_count": null,
      "outputs": []
    },
    {
      "cell_type": "code",
      "source": [
        "# Applying text processing to each row in DataFrame\n",
        "c['abc']=c['abc'].apply(text_process)"
      ],
      "metadata": {
        "id": "XP5o2qseflH9"
      },
      "execution_count": null,
      "outputs": []
    },
    {
      "cell_type": "code",
      "source": [
        "c"
      ],
      "metadata": {
        "colab": {
          "base_uri": "https://localhost:8080/",
          "height": 240
        },
        "id": "zklwIPXUfmnE",
        "outputId": "629472a1-cb38-4470-a28b-45dc351849a5"
      },
      "execution_count": null,
      "outputs": [
        {
          "output_type": "execute_result",
          "data": {
            "text/plain": [
              "                                                 abc\n",
              "0  Efficient Supply Chain Assessment Overcoming T...\n",
              "1  ABSTRACT rapid development Internet changed wa..."
            ],
            "text/html": [
              "\n",
              "  <div id=\"df-0fae0c89-d0d3-457b-98cb-f66dc1e0db9e\" class=\"colab-df-container\">\n",
              "    <div>\n",
              "<style scoped>\n",
              "    .dataframe tbody tr th:only-of-type {\n",
              "        vertical-align: middle;\n",
              "    }\n",
              "\n",
              "    .dataframe tbody tr th {\n",
              "        vertical-align: top;\n",
              "    }\n",
              "\n",
              "    .dataframe thead th {\n",
              "        text-align: right;\n",
              "    }\n",
              "</style>\n",
              "<table border=\"1\" class=\"dataframe\">\n",
              "  <thead>\n",
              "    <tr style=\"text-align: right;\">\n",
              "      <th></th>\n",
              "      <th>abc</th>\n",
              "    </tr>\n",
              "  </thead>\n",
              "  <tbody>\n",
              "    <tr>\n",
              "      <th>0</th>\n",
              "      <td>Efficient Supply Chain Assessment Overcoming T...</td>\n",
              "    </tr>\n",
              "    <tr>\n",
              "      <th>1</th>\n",
              "      <td>ABSTRACT rapid development Internet changed wa...</td>\n",
              "    </tr>\n",
              "  </tbody>\n",
              "</table>\n",
              "</div>\n",
              "    <div class=\"colab-df-buttons\">\n",
              "\n",
              "  <div class=\"colab-df-container\">\n",
              "    <button class=\"colab-df-convert\" onclick=\"convertToInteractive('df-0fae0c89-d0d3-457b-98cb-f66dc1e0db9e')\"\n",
              "            title=\"Convert this dataframe to an interactive table.\"\n",
              "            style=\"display:none;\">\n",
              "\n",
              "  <svg xmlns=\"http://www.w3.org/2000/svg\" height=\"24px\" viewBox=\"0 -960 960 960\">\n",
              "    <path d=\"M120-120v-720h720v720H120Zm60-500h600v-160H180v160Zm220 220h160v-160H400v160Zm0 220h160v-160H400v160ZM180-400h160v-160H180v160Zm440 0h160v-160H620v160ZM180-180h160v-160H180v160Zm440 0h160v-160H620v160Z\"/>\n",
              "  </svg>\n",
              "    </button>\n",
              "\n",
              "  <style>\n",
              "    .colab-df-container {\n",
              "      display:flex;\n",
              "      gap: 12px;\n",
              "    }\n",
              "\n",
              "    .colab-df-convert {\n",
              "      background-color: #E8F0FE;\n",
              "      border: none;\n",
              "      border-radius: 50%;\n",
              "      cursor: pointer;\n",
              "      display: none;\n",
              "      fill: #1967D2;\n",
              "      height: 32px;\n",
              "      padding: 0 0 0 0;\n",
              "      width: 32px;\n",
              "    }\n",
              "\n",
              "    .colab-df-convert:hover {\n",
              "      background-color: #E2EBFA;\n",
              "      box-shadow: 0px 1px 2px rgba(60, 64, 67, 0.3), 0px 1px 3px 1px rgba(60, 64, 67, 0.15);\n",
              "      fill: #174EA6;\n",
              "    }\n",
              "\n",
              "    .colab-df-buttons div {\n",
              "      margin-bottom: 4px;\n",
              "    }\n",
              "\n",
              "    [theme=dark] .colab-df-convert {\n",
              "      background-color: #3B4455;\n",
              "      fill: #D2E3FC;\n",
              "    }\n",
              "\n",
              "    [theme=dark] .colab-df-convert:hover {\n",
              "      background-color: #434B5C;\n",
              "      box-shadow: 0px 1px 3px 1px rgba(0, 0, 0, 0.15);\n",
              "      filter: drop-shadow(0px 1px 2px rgba(0, 0, 0, 0.3));\n",
              "      fill: #FFFFFF;\n",
              "    }\n",
              "  </style>\n",
              "\n",
              "    <script>\n",
              "      const buttonEl =\n",
              "        document.querySelector('#df-0fae0c89-d0d3-457b-98cb-f66dc1e0db9e button.colab-df-convert');\n",
              "      buttonEl.style.display =\n",
              "        google.colab.kernel.accessAllowed ? 'block' : 'none';\n",
              "\n",
              "      async function convertToInteractive(key) {\n",
              "        const element = document.querySelector('#df-0fae0c89-d0d3-457b-98cb-f66dc1e0db9e');\n",
              "        const dataTable =\n",
              "          await google.colab.kernel.invokeFunction('convertToInteractive',\n",
              "                                                    [key], {});\n",
              "        if (!dataTable) return;\n",
              "\n",
              "        const docLinkHtml = 'Like what you see? Visit the ' +\n",
              "          '<a target=\"_blank\" href=https://colab.research.google.com/notebooks/data_table.ipynb>data table notebook</a>'\n",
              "          + ' to learn more about interactive tables.';\n",
              "        element.innerHTML = '';\n",
              "        dataTable['output_type'] = 'display_data';\n",
              "        await google.colab.output.renderOutput(dataTable, element);\n",
              "        const docLink = document.createElement('div');\n",
              "        docLink.innerHTML = docLinkHtml;\n",
              "        element.appendChild(docLink);\n",
              "      }\n",
              "    </script>\n",
              "  </div>\n",
              "\n",
              "\n",
              "<div id=\"df-c23b2670-efe5-4399-bcd8-5bc06513b20b\">\n",
              "  <button class=\"colab-df-quickchart\" onclick=\"quickchart('df-c23b2670-efe5-4399-bcd8-5bc06513b20b')\"\n",
              "            title=\"Suggest charts\"\n",
              "            style=\"display:none;\">\n",
              "\n",
              "<svg xmlns=\"http://www.w3.org/2000/svg\" height=\"24px\"viewBox=\"0 0 24 24\"\n",
              "     width=\"24px\">\n",
              "    <g>\n",
              "        <path d=\"M19 3H5c-1.1 0-2 .9-2 2v14c0 1.1.9 2 2 2h14c1.1 0 2-.9 2-2V5c0-1.1-.9-2-2-2zM9 17H7v-7h2v7zm4 0h-2V7h2v10zm4 0h-2v-4h2v4z\"/>\n",
              "    </g>\n",
              "</svg>\n",
              "  </button>\n",
              "\n",
              "<style>\n",
              "  .colab-df-quickchart {\n",
              "      --bg-color: #E8F0FE;\n",
              "      --fill-color: #1967D2;\n",
              "      --hover-bg-color: #E2EBFA;\n",
              "      --hover-fill-color: #174EA6;\n",
              "      --disabled-fill-color: #AAA;\n",
              "      --disabled-bg-color: #DDD;\n",
              "  }\n",
              "\n",
              "  [theme=dark] .colab-df-quickchart {\n",
              "      --bg-color: #3B4455;\n",
              "      --fill-color: #D2E3FC;\n",
              "      --hover-bg-color: #434B5C;\n",
              "      --hover-fill-color: #FFFFFF;\n",
              "      --disabled-bg-color: #3B4455;\n",
              "      --disabled-fill-color: #666;\n",
              "  }\n",
              "\n",
              "  .colab-df-quickchart {\n",
              "    background-color: var(--bg-color);\n",
              "    border: none;\n",
              "    border-radius: 50%;\n",
              "    cursor: pointer;\n",
              "    display: none;\n",
              "    fill: var(--fill-color);\n",
              "    height: 32px;\n",
              "    padding: 0;\n",
              "    width: 32px;\n",
              "  }\n",
              "\n",
              "  .colab-df-quickchart:hover {\n",
              "    background-color: var(--hover-bg-color);\n",
              "    box-shadow: 0 1px 2px rgba(60, 64, 67, 0.3), 0 1px 3px 1px rgba(60, 64, 67, 0.15);\n",
              "    fill: var(--button-hover-fill-color);\n",
              "  }\n",
              "\n",
              "  .colab-df-quickchart-complete:disabled,\n",
              "  .colab-df-quickchart-complete:disabled:hover {\n",
              "    background-color: var(--disabled-bg-color);\n",
              "    fill: var(--disabled-fill-color);\n",
              "    box-shadow: none;\n",
              "  }\n",
              "\n",
              "  .colab-df-spinner {\n",
              "    border: 2px solid var(--fill-color);\n",
              "    border-color: transparent;\n",
              "    border-bottom-color: var(--fill-color);\n",
              "    animation:\n",
              "      spin 1s steps(1) infinite;\n",
              "  }\n",
              "\n",
              "  @keyframes spin {\n",
              "    0% {\n",
              "      border-color: transparent;\n",
              "      border-bottom-color: var(--fill-color);\n",
              "      border-left-color: var(--fill-color);\n",
              "    }\n",
              "    20% {\n",
              "      border-color: transparent;\n",
              "      border-left-color: var(--fill-color);\n",
              "      border-top-color: var(--fill-color);\n",
              "    }\n",
              "    30% {\n",
              "      border-color: transparent;\n",
              "      border-left-color: var(--fill-color);\n",
              "      border-top-color: var(--fill-color);\n",
              "      border-right-color: var(--fill-color);\n",
              "    }\n",
              "    40% {\n",
              "      border-color: transparent;\n",
              "      border-right-color: var(--fill-color);\n",
              "      border-top-color: var(--fill-color);\n",
              "    }\n",
              "    60% {\n",
              "      border-color: transparent;\n",
              "      border-right-color: var(--fill-color);\n",
              "    }\n",
              "    80% {\n",
              "      border-color: transparent;\n",
              "      border-right-color: var(--fill-color);\n",
              "      border-bottom-color: var(--fill-color);\n",
              "    }\n",
              "    90% {\n",
              "      border-color: transparent;\n",
              "      border-bottom-color: var(--fill-color);\n",
              "    }\n",
              "  }\n",
              "</style>\n",
              "\n",
              "  <script>\n",
              "    async function quickchart(key) {\n",
              "      const quickchartButtonEl =\n",
              "        document.querySelector('#' + key + ' button');\n",
              "      quickchartButtonEl.disabled = true;  // To prevent multiple clicks.\n",
              "      quickchartButtonEl.classList.add('colab-df-spinner');\n",
              "      try {\n",
              "        const charts = await google.colab.kernel.invokeFunction(\n",
              "            'suggestCharts', [key], {});\n",
              "      } catch (error) {\n",
              "        console.error('Error during call to suggestCharts:', error);\n",
              "      }\n",
              "      quickchartButtonEl.classList.remove('colab-df-spinner');\n",
              "      quickchartButtonEl.classList.add('colab-df-quickchart-complete');\n",
              "    }\n",
              "    (() => {\n",
              "      let quickchartButtonEl =\n",
              "        document.querySelector('#df-c23b2670-efe5-4399-bcd8-5bc06513b20b button');\n",
              "      quickchartButtonEl.style.display =\n",
              "        google.colab.kernel.accessAllowed ? 'block' : 'none';\n",
              "    })();\n",
              "  </script>\n",
              "</div>\n",
              "\n",
              "  <div id=\"id_5e4acc25-86b2-4301-b9b5-00092b3ed929\">\n",
              "    <style>\n",
              "      .colab-df-generate {\n",
              "        background-color: #E8F0FE;\n",
              "        border: none;\n",
              "        border-radius: 50%;\n",
              "        cursor: pointer;\n",
              "        display: none;\n",
              "        fill: #1967D2;\n",
              "        height: 32px;\n",
              "        padding: 0 0 0 0;\n",
              "        width: 32px;\n",
              "      }\n",
              "\n",
              "      .colab-df-generate:hover {\n",
              "        background-color: #E2EBFA;\n",
              "        box-shadow: 0px 1px 2px rgba(60, 64, 67, 0.3), 0px 1px 3px 1px rgba(60, 64, 67, 0.15);\n",
              "        fill: #174EA6;\n",
              "      }\n",
              "\n",
              "      [theme=dark] .colab-df-generate {\n",
              "        background-color: #3B4455;\n",
              "        fill: #D2E3FC;\n",
              "      }\n",
              "\n",
              "      [theme=dark] .colab-df-generate:hover {\n",
              "        background-color: #434B5C;\n",
              "        box-shadow: 0px 1px 3px 1px rgba(0, 0, 0, 0.15);\n",
              "        filter: drop-shadow(0px 1px 2px rgba(0, 0, 0, 0.3));\n",
              "        fill: #FFFFFF;\n",
              "      }\n",
              "    </style>\n",
              "    <button class=\"colab-df-generate\" onclick=\"generateWithVariable('c')\"\n",
              "            title=\"Generate code using this dataframe.\"\n",
              "            style=\"display:none;\">\n",
              "\n",
              "  <svg xmlns=\"http://www.w3.org/2000/svg\" height=\"24px\"viewBox=\"0 0 24 24\"\n",
              "       width=\"24px\">\n",
              "    <path d=\"M7,19H8.4L18.45,9,17,7.55,7,17.6ZM5,21V16.75L18.45,3.32a2,2,0,0,1,2.83,0l1.4,1.43a1.91,1.91,0,0,1,.58,1.4,1.91,1.91,0,0,1-.58,1.4L9.25,21ZM18.45,9,17,7.55Zm-12,3A5.31,5.31,0,0,0,4.9,8.1,5.31,5.31,0,0,0,1,6.5,5.31,5.31,0,0,0,4.9,4.9,5.31,5.31,0,0,0,6.5,1,5.31,5.31,0,0,0,8.1,4.9,5.31,5.31,0,0,0,12,6.5,5.46,5.46,0,0,0,6.5,12Z\"/>\n",
              "  </svg>\n",
              "    </button>\n",
              "    <script>\n",
              "      (() => {\n",
              "      const buttonEl =\n",
              "        document.querySelector('#id_5e4acc25-86b2-4301-b9b5-00092b3ed929 button.colab-df-generate');\n",
              "      buttonEl.style.display =\n",
              "        google.colab.kernel.accessAllowed ? 'block' : 'none';\n",
              "\n",
              "      buttonEl.onclick = () => {\n",
              "        google.colab.notebook.generateWithVariable('c');\n",
              "      }\n",
              "      })();\n",
              "    </script>\n",
              "  </div>\n",
              "\n",
              "    </div>\n",
              "  </div>\n"
            ],
            "application/vnd.google.colaboratory.intrinsic+json": {
              "type": "dataframe",
              "variable_name": "c",
              "summary": "{\n  \"name\": \"c\",\n  \"rows\": 2,\n  \"fields\": [\n    {\n      \"column\": \"abc\",\n      \"properties\": {\n        \"dtype\": \"string\",\n        \"num_unique_values\": 2,\n        \"samples\": [\n          \"ABSTRACT rapid development Internet changed ways work\",\n          \"Efficient Supply Chain Assessment Overcoming Technical Hurdles Web Application Development\"\n        ],\n        \"semantic_type\": \"\",\n        \"description\": \"\"\n      }\n    }\n  ]\n}"
            }
          },
          "metadata": {},
          "execution_count": 26
        },
        {
          "output_type": "display_data",
          "data": {
            "text/plain": [
              "<google.colab._quickchart_helpers.SectionTitle at 0x79d4edaeada0>"
            ],
            "text/html": [
              "<h4 class=\"colab-quickchart-section-title\">Categorical distributions</h4>\n",
              "<style>\n",
              "  .colab-quickchart-section-title {\n",
              "      clear: both;\n",
              "  }\n",
              "</style>"
            ]
          },
          "metadata": {}
        },
        {
          "output_type": "display_data",
          "data": {
            "text/plain": [
              "from matplotlib import pyplot as plt\n",
              "import seaborn as sns\n",
              "c.groupby('abc').size().plot(kind='barh', color=sns.palettes.mpl_palette('Dark2'))\n",
              "plt.gca().spines[['top', 'right',]].set_visible(False)"
            ],
            "text/html": [
              "      <div class=\"colab-quickchart-chart-with-code\" id=\"chart-2da1c987-e5fb-4feb-a5d7-369b8fd7969f\">\n",
              "        <img style=\"width: 180px;\" src=\"data:image/png;base64,iVBORw0KGgoAAAANSUhEUgAABDIAAAGZCAYAAAB7ShGqAAAAOXRFWHRTb2Z0d2FyZQBNYXRwbG90\n",
              "bGliIHZlcnNpb24zLjcuMSwgaHR0cHM6Ly9tYXRwbG90bGliLm9yZy/bCgiHAAAACXBIWXMAAA9h\n",
              "AAAPYQGoP6dpAAA/AklEQVR4nO3deVyU9f7//+cIhplbpZZLioiiAsOwiEuigqikJ1OzXMs1LFOz\n",
              "rMxSs7Ldk6fsfDKPhLlQHnM9ZnVCxTQwAQU0ldREy7WTG5kbOr8//HF9HdkTpbc97rebt5sz1/a6\n",
              "3nPNNVzPeV/vsTmdTqcAAAAAAAAMUK6sCwAAAAAAACguggwAAAAAAGAMggwAAAAAAGAMggwAAAAA\n",
              "AGAMggwAAAAAAGAMggwAAAAAAGAMggwAAAAAAGAMggwAAAAAAGAMggwAAAAAAGAMggwAAHDDeffd\n",
              "d8u6BAAAcI0QZAAAgBvO3r17y7oEAABwjRBkAAAAAAAAYxBkAAAAAAAAYxBkAAAAAAAAYxBkAAAA\n",
              "AAAAYxBkAAAAAAAAYxBkAAAAAAAAYxBkAAAAAAAAYxBkAAAAAAAAYxBkAAAAAAAAYxBkAAAAAAAA\n",
              "YxBkAAAAAAAAYxBkAAAAAAAAYxBkAAAAAAAAYxBkAAAAAAAAYxBkAAAAAAAAYxBkAAAAAAAAYxBk\n",
              "AAAAAAAAYxBkAAAAAAAAYxBkAAAAAAAAYxBkAAAAAAAAYxBkAAAAAAAAYxBkAAAAAAAAYxBkAAAA\n",
              "AAAAYxBkAAAAAAAAYxBkAAAAAAAAYxBkAAAAAAAAYxBkAAAAAAAAYxBkAAAAAAAAYxBkAAAAAAAA\n",
              "YxBkAAAAAAAAYxBkAAAAAAAAYxBkAAAAAAAAYxBkAAAAAAAAYxBkAAAAAAAAYxBkAAAAAAAAYxBk\n",
              "AAAAAAAAYxBkAAAAAAAAYxBkAAAAAAAAYxBkAAAAAAAAYxBkAAAAAAAAYxBkAAAAAAAAYxBkAAAA\n",
              "AAAAYxBkAAAAAAAAYxBkAAAAAAAAY9icTqezrIsAAAAoTYN9bRrfnO9rAAAobY1nXyjrEuiRAQAA\n",
              "AAAAzEGQAQAAAAAAjEGQAQAAAAAAjEGQAQAAAAAAjEGQAQAAAAAAjEGQAQAAAAAAjEGQAQAAAAAA\n",
              "jEGQAQAAAAAAjEGQAQAAAAAAjEGQAQAAAAAAjEGQAQAAAAAAjEGQAQAAAAAAjEGQAQAAAAAAjEGQ\n",
              "AQAAAAAAjEGQAQAAAAAAjEGQAQAAAAAAjEGQAQAAAAAAjEGQAQAAAAAAjEGQAQAAAAAAjEGQAQAA\n",
              "AAAAjEGQAQAAAAAAjEGQAQAAAAAAjEGQAQAAAAAAjEGQAQAAAAAAjEGQAQAAAAAAjEGQAQAAAAAA\n",
              "jEGQAQAAAAAAjEGQAQAAAAAAjEGQAQAAAAAAjEGQAQAAAAAAjEGQAQAAAAAAjEGQAQAAAAAAjEGQ\n",
              "AQAAAAAAjEGQAQAAAAAAjEGQAQAAAAAAjEGQAQAAAAAAjEGQAQAAAAAAjEGQAQAAAAAAjEGQAQAA\n",
              "AAAAjEGQAQAAAAAAjEGQAQAAAAAAjHHNggxPT0/5+PjI4XBY/7Zs2SJJWrZsmZo2bWo9d+Vjh8Oh\n",
              "7OzsQtc/bNgwrVmz5qpqXLp0qTZs2FDg9C1btigiIkIBAQHy8/NT8+bNtXXr1qvaZmEmT56sMWPG\n",
              "lHi5I0eOaPDgwfLy8lJgYKCCgoL02muvXdU6Z8yYobfffrvEy+Vq166dvL295XQ6//A6TJKWlqZP\n",
              "P/200HkSExPVrl07NWrUSF5eXurbt68OHjx4nSosHQcOHFBYWFiprS8lJcU6P9SrV09Vq1a1Hpf0\n",
              "+Js9e7a6d+9e4hpKY59sNpuOHz+e5/mEhAQ5HA6X57KyslStWrWr2l6u999/X4MGDZL0x/c/P4MH\n",
              "D9aUKVOsx/PmzZPNZlNWVpb1XFRUlGJiYgpdj6enp9LS0oq93djYWNlsNq1bt66kJeerffv2Wrp0\n",
              "qSRp0qRJmj9//h9eV0JCgr788kvrcWm/F6RL5+saNWooMDBQjRs3VvPmzfXuu+/qwoULpbqdy13e\n",
              "Rn9mkydP1pkzZ8q6DAAA8CdxTXtkLFiwQGlpadY/f39/SZcukidNmmQ9d+XjtLQ0Va5cudB1z5o1\n",
              "S+Hh4VdVX1FBRt++fTVq1Cilp6dr69atWrx4sWrWrHlV2yxtp0+fVrt27VS/fn3t3LlTmzdv1vr1\n",
              "63XLLbdc1XofffRRPfPMM39o2Z07d2rnzp3y8PDQ2rVrr6oOUxQVZGRkZKhbt26aNGmSdu7cqR9/\n",
              "/FEOh0Pt27fX77//Xmp15OTklNq68lO7du1Su8iUpJCQEOv88PLLLys8PNx6/EePv5Iq7X26Vq71\n",
              "a3u58PBwJSQkWI/XrFmjFi1aWM/l5ORo/fr1ioiIKNXtxsTEqEOHDkUGJH/Eyy+/rP79+//h5a8M\n",
              "Mq7VcdO/f39t3rxZP/zwgxYsWKAFCxboySefLPXtmOall14iyAAAAJbrfmvJ6NGjtW7dOj3//PNq\n",
              "3bp1nseS67eb27dvV+fOnWW322W32zVjxgxJrt8iZWdn65FHHlFoaKjsdruio6N17tw5a76nn35a\n",
              "YWFhatiwoR599FFJ0sqVK7V8+XK9/fbbcjgcmjVrVp5af/75Z9WpU8d6fNddd1lBxqBBg/SPf/zD\n",
              "mvb0009r8uTJki59c3T//fcrIiJCTZo00b333qtff/21yGmX8/f3V2JiovV45syZ6t27d5754uLi\n",
              "VLlyZU2ePFlubm6SpIoVK+qJJ56w5jl48KDuvfdeNWvWTBERETp69KikSz1O2rRpo6CgIDVr1szl\n",
              "G9jLe3LMnj1bkZGR6tu3r/z9/RUSEqIff/wxTy25PvroIw0YMEDDhg1zuSD55Zdf1KlTJ/n7+8tu\n",
              "t2vw4MGSpA0bNig4OFgOh0N+fn764IMPJBX+uk6ZMsXqxeNwOLR3716dPn1avXv3VrNmzRQQEKBO\n",
              "nTpJunQB4ufnp8cee0x2u13+/v7KyMjQoEGD5O/vrxYtWmj//v1WnVOnTlVoaKiCgoIUFRWlvXv3\n",
              "Wm3Su3fvPG155MgRTZo0SWvWrJHD4bCOscu99dZbGjJkiDp06GA9N27cOFWtWlWffvqpvv32Wyvo\n",
              "y9W+fXstW7ZMkvTVV1+pTZs2Cg4OVmhoqNUbKSEhQb6+vho6dKgcDoeWLFlS4Htm165dioyMlN1u\n",
              "l8PhcPkW1maz6dVXX1WLFi3k6emppUuX6vXXX1dISIgaNWpkXcBe2ZvAZrPptddeU2hoqBo0aKDY\n",
              "2FhrWmJiohwOh/z9/TVkyBAFBAS4XBwXpaDX4dy5c3rmmWfk5+engIAARUVFWcv89ttv+R6nucfA\n",
              "iBEjFBAQIF9fX6WkpOS7T0lJSWrTpo0CAgJkt9ut1+Dpp59W8+bN5XA41LZtW2VmZhZ7XwpzZW+O\n",
              "6tWrWz0fPD09NW7cOIWGhmrgwIHKzs5W79695ePjozZt2li93PIzd+5ctWjRQkFBQWrbtq3S09Ml\n",
              "Ffx+u1x4eLiSkpKs99v69es1fvx46/VLTk5W9erV1aBBAx06dEgPPvigQkND5e/vrwkTJrisa/78\n",
              "+QoODpa3t3ehvWwyMzO1Z88ezZkzR0uXLtXJkyetae3bt9eoUaPUvHlzeXt7a+zYsVZvr8KmXe7y\n",
              "c3ZBx1BB58S0tDTNmDFD8+fPl8Ph0Msvv5znuPnqq68UFBQku92udu3aadu2bZIKP/aK4uXlpY8+\n",
              "+kgffPCBTpw4YW0nv3NBx44d9dlnn1nLJiQkKDAwUFLh59LLHTlyRD179pS/v7/8/Pz04YcfWtM8\n",
              "PT31zDPP5Ptaenp6asKECWrdurXuuusuzZgxQ7GxsWrVqpU8PT1dQt7k5GRFREQoJCREgYGBWrhw\n",
              "oaT/9z588cUXrW2sXLlSkqxzalhYmBwOh44cOVKs9gMAADeuaxpk9O7d2+XWktOnT+u9995TSEiI\n",
              "pk2bpsTExDyPL5eTk6P77rtPgwYNUkZGhjIyMtSrV6882xk7dqzCwsK0ceNGpaen6+LFi3r33Xet\n",
              "6bt379aaNWu0detWffXVV0pKSlKXLl3UrVs3PfPMM0pLS9OwYcPyrHfixIkKDw9Xhw4d9MILL2jz\n",
              "5s3F3vd169YpLi5OO3bs0F133aXx48cXa1qu0aNH6/3337ce//Of/9TIkSPzzJeamqpWrVoVWst3\n",
              "332n2bNna9u2bapZs6b1x6mnp6dWrVqlTZs2KTU1VYsWLSqwh0pycrJee+01bdmyRZGRkXrzzTfz\n",
              "ne/ChQv6+OOPNWTIED300EP6z3/+Y/0BPm/ePDVo0EBbtmxRRkaG/v73v0uSXn/9dT399NNKS0vT\n",
              "1q1b1adPH0kFv67Hjh3T1KlTtWnTJqWlpSkxMVF33HGHvvzySx0/flzbtm1Tenq6yx/PO3bs0LBh\n",
              "w5SRkaHu3bsrIiJCzz33nLZs2aKQkBDrAicuLk6ZmZlKSkrSpk2b1L9/f40YMaLQtqxZs6ZLb4Lc\n",
              "4OBymzZtyvd1atWqlVJTU3X33Xfr7Nmz1gXOjz/+qMzMTHXt2lU//vijJk+erJUrVyo1NVVxcXHq\n",
              "16+fzp49K+lS2Pfwww8rLS1NPXr0KPA9079/fz3wwAPKyMjQwoULNXToUCsckKRKlSrpu+++U0xM\n",
              "jAYMGKBatWopJSVFr732WqG9Izw8PLRx40Z98cUXGj16tHJycnTu3Dn17t1b06ZN05YtW/TQQw8p\n",
              "IyOjwHVcqbDX4fXXX9cPP/yg1NRUpaena+7cudZyhR2nO3bs0MCBA5Wenq5Ro0bphRdeyLPdo0eP\n",
              "qnv37nr99deVnp6utLQ06/aBcePGKTk5WWlpaRoxYoRLWFiYzMxMl/Ngly5dit0OkvTrr7/qu+++\n",
              "0/z58/Xyyy/Lw8NDO3bs0Oeff65vvvkm32W+/fZbffLJJ/rmm2+0adMmvfrqq+rXr5+kgt9vl7vr\n",
              "rrtUq1Ytfffdd9q3b59uu+02derUyTpHr1mzxuqNMXDgQD3++OPauHGjNm/erJSUFOviVJIOHz6s\n",
              "lJQUbdiwQdOnT89zns8VExOjhx56SLVr11ZERESeHk7btm1TYmKiMjIytHbtWn3yySfFmpafgo6h\n",
              "gs6JuQFl//79lZaWpkmTJrms78iRI+rXr58+/vhjZWRkKDo6Wr169bICleIcewVp0qSJKlasqMzM\n",
              "zELPBYMHD9bs2bOt5WJjYzVkyBBJRX9G5ho1apR8fHy0ZcsWrV69WlOmTHH5TCjstTx16pQSExO1\n",
              "Zs0aPfnkk9q/f7+SkpK0cOFCjRo1SpJ0/PhxRUdHa/78+UpJSdHXX3+tsWPHWkHyiRMnZLfblZqa\n",
              "qvfff9/qiZJ7Tl23bp3S0tLy7Rl59uxZnTx50uXfhYvFbmYAAGAY92u58gULFuS5P7wkMjMzdebM\n",
              "GfXt29d6rnr16nnmW7p0qZKSkvTOO+9IunS7RW7vBOlSoOLu7i53d3c5HA7t3r27yIt/6dIffwMG\n",
              "DNDq1av1zTffKCwsTDExMfn2jLhS165ddeedd0qSoqOj1bNnz2JNyzVgwABNmjRJhw8f1s6dO2Wz\n",
              "2f7w/dhRUVG6/fbbJV26cM79Fvf06dMaMWKE0tLSVK5cOf30009KS0tTy5Yt86yjVatWatCggfX/\n",
              "6dOn57utlStXytPTU02aNJEkRUZGKi4uTo899phatmypadOmaezYsWrbtq31LWh4eLheeeUV7dy5\n",
              "UxEREWrTpo2kgl/XKlWqqFGjRhowYIA6deqkrl27qm7dugoICND27ds1YsQItWvXzuWC0dvbW8HB\n",
              "wZIu3c7g7e1t1RgaGqolS5ZY20xOTrbmvfLe9ILasjQMHjxYsbGxCgkJ0ccff6z+/fvL3d1dX375\n",
              "pXbt2qW2bdta85YrV0779u2TdOlb23bt2kkq+D2TnZ2tTZs26dtvv5UkNWrUSG3atNG6detUv359\n",
              "SbKO65CQEJ06dcq6wA0NDdXOnTsLrDu3u36TJk3k7u6uQ4cO6ejRo3J3d7du/woPD1fDhg2L3RaF\n",
              "vQ4rVqzQm2++KQ8PD0lSjRo1rGmFHafe3t5q0aKFNW3q1Kl5tpuUlCQfHx/rvVauXDnddtttkqSv\n",
              "v/5a06dPV3Z2ti5evGj1bCqKj4+PyzgRWVlZJTovDho0SDabTZK0atUqTZs2TTabTVWrVlW/fv20\n",
              "e/fuPMssW7ZM6enp1v5Kl0Ka06dPF/h+u1Lu7SX169dXu3btdPPNN6tmzZras2ePEhIS9NBDD+nU\n",
              "qVNatWqVDh8+bC3322+/ufRWGTp0qGw2m6pXr66ePXsqPj7e6n2XKycnR3PmzLFuRRsyZIheeeUV\n",
              "RUdHW/M8/PDDKl++vMqXL68BAwYoPj7eCmcKm5afgo6hkpwTL/fdd9/J39/f6lXVv39/Pf7449YF\n",
              "enGOvcLkBiKFnQt69Oih0aNH6+DBg6pcubJWrFhhnTuL+ozMFR8fr9TUVElSzZo1rdcrd/8Ley1z\n",
              "zx/e3t6qUKGCFaCGhITo6NGjOn78uBITE/Xjjz/qnnvucdluZmamvLy8VKFCBevzsFWrVvke2wV5\n",
              "/fXX9dJLL7k8F5D3zwUAAHCDuKZBxvXidDq1aNEiNW7cON/pFSpUsP7v5uZWonvN77jjDvXt21d9\n",
              "+/ZV/fr1NX/+fCsYufzi6syZM6pUqVKB68m9ECnutJtvvlmDBg3Shx9+qO3bt+vxxx/Pd9ng4GDN\n",
              "nDmz0H0oaP+ff/55Va9eXZs3b5a7u7t69uxZ4D3IxW3DmJgY/fDDD/L09JR06Q/mrKwsPfbYY2rV\n",
              "qpXS0tIUHx+vxYsXa+LEidq8ebPGjBmj++67T/Hx8Xr++efl5+en//u//yv0dd2wYYMSExOVkJCg\n",
              "li1b6pNPPlFYWJi2bdum1atXKz4+Xs8++6x1AXll/QXtj9Pp1Pjx410uoP5IO1wpKChISUlJ6tGj\n",
              "h8vzSUlJGj58uKRL32wHBARo6tSpmjNnjlasWGHV1LFjR8XFxeVZ7/79+ws97gpz5XGXu2+5FziX\n",
              "Py5sP4vbJoW9B65U1OvwR2q5mvPAvn37NHLkSCUnJ6thw4bKyMhwuZi8Gm5ubnnOJZf7I+cVp9Op\n",
              "gQMHWoP+Xq6g99uVwsPDNWvWLNWvX9+6SG3Xrp3++9//6ttvv1VsbKx1gb1hwwaX9i1MfjWvWLFC\n",
              "x48fV+fOna36Dxw4oK1bt8rPz69E+17UtMKU5JxYEldz7GVmZur06dNq0qSJkpOTCzwXSNIDDzyg\n",
              "uXPnqkaNGoqIiLBC16I+IwtSVDtePr2gc6zNZpPNZlNOTo6cTqd8fX3z7ZWTlZUlDw8Pa51Xvi+K\n",
              "Mn78eD311FMuz41sUbXYywMAALP8qX9+1cfHRxUrVnTpJvy///0vz3zdu3fXm2++af1xeOzYMe3a\n",
              "tavI9VepUsW67SE/S5Ys0fnz5yVd+sYwIyPD+lbZ29tbGzdulHSp63fuvby5Vq5caX1LOWvWLEVG\n",
              "RhZr2uUef/xxzZw5U6tXry5wkLq+ffvq+PHjeuWVV6w/+nJv4SnKsWPHVLduXbm7uyszM1Nff/11\n",
              "kcsU5vDhw1q1apV27dqlrKwsZWVl6eDBgzpw4IDS09O1Z88eVapUSQ8++KCmT5+uH374wfr2tkGD\n",
              "BnrkkUf0/PPPW12ZC3pds7OzdfjwYYWFhWnixIlq06aNNm/erJ9//lk2m03dunXT1KlT5XQ69dNP\n",
              "P5VoH7p3764ZM2ZY37afP3++WLcUFXUsPf3004qJidGqVaus59566y0dO3bM6j1Ru3ZtNW/eXE8+\n",
              "+aRq1qwpX19fSVLnzp0VHx/vcmtG7rF3pYLeM5UrV1ZQUJA1hsWuXbu0fv36UrsYz6+O8+fPW9+w\n",
              "r127tljvyVyFvQ7dunXTu+++a91a88svv5Ra3a1bt9bOnTutQRxze16cOHFC5cuXV61ateR0Ol1u\n",
              "+7pa3t7e+u677yRJixcv1qlTpwqcNzIy0goQTp48WeAtFN26ddO8efOsXjsXL160blsq6P12pfDw\n",
              "cG3YsEFr1661em20a9dOf//731WnTh3VqVNHlSpVUnh4uN544w1ruQMHDujnn3+2Hufe7nD06FEt\n",
              "WbLEZZyYXDExMfrHP/5hnTf27t2rp556ymWMnXnz5un8+fM6ffq04uLiXM6bhU0rqH3yO4YKOycW\n",
              "9h5v2bKltmzZYv2q1aeffmq10dXIysrS0KFD9dhjj6lKlSpFngtye3XNnj3buq1EKv5nZGRkpP71\n",
              "r39JutQmixcvVseOHa3pxXktC9O6dWvt2bNH8fHx1nNpaWn5jtdxpcqVKxd6jvXw8FCVKlVc/rn9\n",
              "qf/CAQAAV+O6jpFR0p9LdXd317JlyxQbGyt/f38FBARo0aJFeeabNm2abr75ZjkcDtntdnXo0MHl\n",
              "ZwIL8tBDD+nf//63AgMD8x3sc/HixfLz85PdbldAQIA8PDysrqvR0dH65Zdf1LRpUz388MN5uh6H\n",
              "hYWpX79+atKkifbu3evyzWhh0y5Xt25dBQYGasCAAapYsWK+81SsWFFr167V7t275e3tbQ1eWZxf\n",
              "wpgwYYJiY2Nlt9v13HPPXfUvEHz88cfq1KmTywB45cqVU58+fRQTE6OEhARrkMHWrVvr7bffVtWq\n",
              "VfX+++/L19dXgYGBmjBhgjV2RkGv64kTJ6wB6ex2u86fP6+BAwdqy5YtuvvuuxUQEKDAwEA99NBD\n",
              "stvtJdqH/v37a9CgQQoPD1dAQIAcDodWr15d5HIdOnTQ2bNnZbfb8x3s0+FwaNmyZZo8ebIaNWqk\n",
              "Bg0aKDU1VQkJCS6v7eDBg/Xhhx9aA6FKly504+LiNHz4cAUEBKhp06YuA81errD3zPz587VgwQIF\n",
              "BASoV69emjVrlurVq1ei9ikuDw8Pffrppxo9erT8/f0VGxsrHx+fYv/saGGvw7hx49S4cWMFBQXJ\n",
              "4XBo4MCBpVb3rbfeqiVLlui5556T3W5XUFCQNRBrnz595Ovrq+bNm5dqu02bNk1PPPGEgoKCtHnz\n",
              "Zutb9PxMnDjR+na+S5cuBd4WEhYWprfeeks9evSwBpjMHXOioPfblWrVqqV69eqpZs2aVq+Q3AvR\n",
              "y88V8+fP165du+Tn5yd/f3/17NnTZQDjGjVqWANTjhw5Ms9tJQcOHNCqVav0wAMPuDzfv39/zZs3\n",
              "z7rIbdq0qe6++275+/srLCzMZWyPwqblp6BjqLBzYo8ePZSWlmYN9nm5GjVqaP78+Xr44Ydlt9v1\n",
              "wQcfaOHChX+oZ8j8+fMVGBgoHx8fPfDAA+rVq5emTZsmqehzQWhoqNzc3LRr1y5rsGOp+J+R7733\n",
              "nrZv3y5/f3+Fh4frhRdecLk9qajXsii33nqrPv/8c7322msKCAhQs2bN9Nxzz+nixaIHsxg7dqw6\n",
              "duzIYJ8AAECSZHPmN7w7rsrkyZN1/PjxfC82C5t2pVOnTsnHx0fr1q2z7vsHTJGdnW39jHJycrK6\n",
              "deum3bt3FxjKAQVp3769xowZo+7du5doGkpP7q8ZXc24V9fbYF+bxjenWwYAAKWt8ezi3/55rfAJ\n",
              "/yc1Y8YMNWnSRCNGjCDEgJEWLVpk/YTp8OHDNXfuXEIMAAAAAFeNHhkAAOCGQ48MAACuDXpkAAAA\n",
              "AAAAlABBBgAAAAAAMAZBBgAAAAAAMAZBBgAAAAAAMAZBBgAAAAAAMAZBBgAAAAAAMAZBBgAAAAAA\n",
              "MAZBBgAAAAAAMAZBBgAAAAAAMAZBBgAAAAAAMAZBBgAAAAAAMAZBBgAAAAAAMAZBBgAAAAAAMAZB\n",
              "BgAAAAAAMAZBBgAAAAAAMAZBBgAAAAAAMAZBBgAAAAAAMAZBBgAAAAAAMAZBBgAAAAAAMAZBBgAA\n",
              "AAAAMAZBBgAAAAAAMAZBBgAAAAAAMAZBBgAAAAAAMAZBBgAAAAAAMAZBBgAAAAAAMAZBBgAAAAAA\n",
              "MAZBBgAAAAAAMAZBBgAAAAAAMAZBBgAAAAAAMAZBBgAAAAAAMAZBBgAAAAAAMAZBBgAAAAAAMAZB\n",
              "BgAAAAAAMAZBBgAAAAAAMAZBBgAAAAAAMAZBBgAAAAAAMAZBBgAAAAAAMAZBBgAAAAAAMAZBBgAA\n",
              "AAAAMIZ7WRcAAABQ2m7t/KQav/NOWZcBAACuAXpkAAAAAAAAYxBkAAAAAAAAYxBkAAAAAAAAYxBk\n",
              "AAAAAAAAYxBkAAAAAAAAYxBkAAAAAAAAYxBkAAAAAAAAYxBkAAAAAAAAYxBkAAAAAAAAYxBkAAAA\n",
              "AAAAYxBkAAAAAAAAYxBkAAAAAAAAYxBkAAAAAAAAYxBkAAAAAAAAYxBkAAAAAAAAYxBkAAAAAAAA\n",
              "YxBkAAAAAAAAYxBkAAAAAAAAYxBkAAAAAAAAYxBkAAAAAAAAYxBkAAAAAAAAYxBkAAAAAAAAYxBk\n",
              "AAAAAAAAYxBkAAAAAAAAYxBkAAAAAAAAYxBkAAAAAAAAYxBkAAAAAAAAYxBkAAAAAAAAYxBkAAAA\n",
              "AAAAYxBkAAAAAAAAYxBkAAAAAAAAYxBkAAAAAAAAYxBkAAAAAAAAYxBkAAAAAAAAYxBkAAAAAAAA\n",
              "YxBkAAAAAAAAYxBkAAAAAAAAYxBkAAAAAAAAY5Q4yEhOTlZ2drb1+OTJk0pJSSnVogAAAAAAAPJT\n",
              "4iBj+PDhqlixovW4YsWKevTRR0u1KAAAAAAAgPyUOMi4ePGi3NzcrMfu7u7Kyckp1aIAAAAAAADy\n",
              "U+Ig46abbtLOnTutxz/88IPKly9fqkUBAAAAAADkx72kC7z44otq06aN7rnnHjmdTv33v/9VbGzs\n",
              "tagNAAAAAADARYmDjK5du2rdunWKj4+XJE2aNEkNGzYs9cIAAAAAAACuVOIgQ5Lq1Kkju90um82m\n",
              "O++8s7RrAgAAAAAAyFeJg4xVq1apX79+qlOnjpxOpw4ePKhPPvlE4eHh16I+AAAAAAAAS4mDjDFj\n",
              "xmj58uVq0aKFJGnjxo0aOnSotmzZUurFAQAAAAAAXK7Ev1pSrlw5K8SQpNDQUJefYwUAAAAAALhW\n",
              "ShxkdOrUSbNnz5bT6ZTT6dScOXPUqVOna1EbAAAAAACAi2LfWnLrrbfKZrPJ6XTqxIkTGj58uCTp\n",
              "/Pnzqlatmt56661rViQAAAAAAIBUgiAjLS3tGpYBAAAAAABQtGIHGfXr15ckHTlyRJMnT1ZaWprO\n",
              "nDljTd+0aVPpVwcAAAAAAHCZEo+RMXToUNWvX1//+9//9NJLL6l27drq2rXrtagNAAAAAADARYmD\n",
              "jJ9++knjxo2Th4eH7r33Xi1evFjx8fHXojYAAAAAAAAXJQ4ybrrpJklShQoV9Ouvv8rd3V3/+9//\n",
              "Sr0wAAAAAACAKxV7jIxcjRs31q+//qoBAwaoRYsWqlKlioKDg69FbQAAAAAAAC5KHGTMmzdPkvTE\n",
              "E08oJCREx44dU1RUVKkXBgAAAAAAcKUSBxmXu/vuu0urDgAAAAAAgCKVeIwMAAAAAACAskKQAQAA\n",
              "AAAAjEGQAQAAAAAAjEGQAQAAAAAAjEGQAQAAAAAAjEGQAQAAAAAAjEGQAQAAAAAAjEGQAQAAAAAA\n",
              "jEGQAQAAAAAAjEGQAQAAAAAAjEGQAQAAAAAAjEGQAQAAAAAAjEGQAQAAAAAAjEGQAQAAAAAAjEGQ\n",
              "AQAAAAAAjEGQAQAAAAAAjEGQAQAAAAAAjEGQAQAAAAAAjEGQAQAAAAAAjEGQAQAAAAAAjEGQAQAA\n",
              "AAAAjEGQAQAAAAAAjEGQAQAAAAAAjEGQAQAAAAAAjEGQAQAAAAAAjEGQAQAAAAAAjEGQAQAAAAAA\n",
              "jEGQAQAAAAAAjEGQAQAAAAAAjEGQAQAAAAAAjEGQAQAAAAAAjEGQAQAAAAAAjEGQAQAAAAAAjEGQ\n",
              "AQAAAAAAjGFzOp3Osi4CAACgNFXq3FzV+nQo6zIAALjh/Dz4jbIugR4ZAAAAAADAHAQZAAAAAADA\n",
              "GAQZAAAAAADAGAQZAAAAAADAGAQZAAAAAADAGAQZAAAAAADAGAQZAAAAAADAGAQZAAAAAADAGAQZ\n",
              "AAAAAADAGAQZAAAAAADAGAQZAAAAAADAGAQZAAAAAADAGAQZAAAAAADAGAQZAAAAAADAGAQZAAAA\n",
              "AADAGAQZAAAAAADAGAQZAAAAAADAGAQZAAAAAADAGAQZAAAAAADAGAQZAAAAAADAGAQZAAAAAADA\n",
              "GAQZAAAAAADAGAQZAAAAAADAGAQZAAAAAADAGAQZAAAAAADAGAQZAAAAAADAGAQZAAAAAADAGAQZ\n",
              "AAAAAADAGAQZAAAAAADAGAQZAAAAAADAGAQZAAAAAADAGAQZAAAAAADAGAQZAAAAAADAGAQZAAAA\n",
              "AADAGAQZAAAAAADAGAQZAAAAAADAGAQZAAAAAADAGAQZAAAAAADAGAQZAAAAAADAGAQZAAAAAADA\n",
              "GAQZAAAAAADAGAQZwJ9Udna2KlWqpKFDh7o8n5CQoJtvvlkOh0MOh0O+vr7617/+ZU1fvHixgoOD\n",
              "5XA41KRJE0VEROjixYvq0qWLtYzNZpO/v78cDofCwsIkyXouICBAzZo1U2xsrMt2nU6nGjRooA4d\n",
              "OuSpNTU1VVFRUfLy8lJISIjuvvtuLV26VMOGDbO2edNNN8nHx8d6nJ2dfQ1a7ZLC1h8SEqKEhIQi\n",
              "17F161Z5enqWbmGXad++vZYuXXrN1l9aJk+erDNnzhQ43Waz6fjx40WuZ/bs2dqxY0cpVla048eP\n",
              "64033ijxcllZWapWrVrpF1RKqlevrqysrLIu47oo7vEFAAD+WtzLugAA+VuwYIGCg4O1ePFivfvu\n",
              "u6pUqZI1zcfHR2lpaZKkn3/+WQ0bNlSfPn3022+/KTo6Wqmpqapfv74kadOmTbLZbFq5cqW1vM1m\n",
              "07p16/JcrOU+l56erubNmysqKkq1atWSJK1atUrVqlVTRkaG9uzZowYNGkiSvv/+e3Xu3FmxsbG6\n",
              "9957JUkHDhzQ119/rVmzZlnr9vT01IIFC+RwOIrc94sXL0qSypX7Y1lrbtvg6r300ksaM2aMKlSo\n",
              "cFXrmT17tqpVq6YmTZqUaLmrORZyg4znnnuuxMuibOXk5MjdnT9RAABA/uiRAfxJxcTEaNy4cWrb\n",
              "tq0WLFhQ4HwnT57ULbfcovLly+vw4cNyc3PTbbfdZk0PCgqSzWYr0bYDAgJ066236ueff3ap55FH\n",
              "HlG/fv300UcfWc+/8cYbGjJkiBViSFLt2rU1cODAEm1z8uTJuv/++9W5c2f5+fnp4MGDevrpp9W8\n",
              "eXM5HA61bdtWmZmZ1vw2m00TJkxQYGCgGjdurPnz57tMy/0WNzExUQ6HQ35+fho8eLBycnIKraFR\n",
              "o0YKDg7Wp59+6jLtq6++Ups2bRQcHKzQ0FCtWbNGktSxY0d99tln1nwJCQkKDAyUdKlXzSOPPKLQ\n",
              "0FDZ7XZFR0fr3LlzebZ75MgR9ezZU/7+/vLz89OHH35oTfP09NQzzzyj4OBgeXt76+2333aZNmHC\n",
              "BLVu3Vp33XWXZsyYodjYWLVq1Uqenp4u+5CcnKyIiAiFhIQoMDBQCxculPT/eh+8+OKL1jZyQ69H\n",
              "H31UkhQWFiaHw6EjR44U2Ha59UyaNEmtWrVSgwYNNGXKFEnSrFmzlJKSoieffFIOh8Na/9SpUxUa\n",
              "GqqgoCBFRUVp79691utw+bGQlJRUYI2F7dujjz6q7OxsORwOhYSE5FtzbGysHA6HAgICFBIS4tLT\n",
              "oaDt9e/fXyEhIbLb7eratasOHTpUZFtK0rJly9S0aVMFBARo3LhxLj0rdu7cqa5du6p58+ay2+16\n",
              "//33reWWL1+upk2bym6369lnny2w/Vu3bq3ExERJ0rPPPqs6depY07y8vLRv3z4dOnRI4eHhCg4O\n",
              "lq+vr0aOHGmFRf7+/tbykjRz5kz17t1bkjRlyhQ1bdrU6lGV+1pdrk6dOjpw4IAk6cEHH1Tr1q0l\n",
              "SWfPntXtt9+us2fP6sKFC3rmmWfk5+cnPz8/jRo1ynpPDBo0SEOGDFHbtm3l5+fnsm6n06lx48ap\n",
              "W7du+v333wtsAwAA8NdAkAH8CW3btk0//fSTOnfurKFDhyomJsZlemZmphwOh5o1a6bAwEC98cYb\n",
              "qlChgux2u9q0aaP69eurR48eevvtt7V///4Sb3/t2rWqXr26AgICJElHjx7Vl19+qX79+mno0KGa\n",
              "PXu2dfGTmpqqVq1aXf1OS0pKStKcOXO0bds21alTR+PGjVNycrLS0tI0YsQIPfHEEy7z22w2bd68\n",
              "WV9++aVGjRqVp7v9uXPn1Lt3b02dOlVbt25V3759lZ6enu+2P//8cy1cuFCpqalKSUlxWdePP/6o\n",
              "yZMna+XKlUpNTVVcXJz69euns2fPavDgwZo9e7Y1b2xsrIYMGSJJGjt2rMLCwrRx40alp6fr4sWL\n",
              "evfdd/Nse9SoUfLx8dGWLVu0evVqTZkyRRs2bLCmHz58WCkpKdqwYYOmT5/ucrF56tQpJSYmas2a\n",
              "NXryySe1f/9+JSUlaeHChRo1apSkSz0ToqOjNX/+fKWkpOjrr7/W2LFjrWPjxIkTstvtSk1N1fvv\n",
              "v68nn3xSkjRjxgxJl3rqpKWlqWbNmoW9fNa2kpKSlJycbB1/w4YNU0hIiKZNm6a0tDR16dJFcXFx\n",
              "yszMVFJSkjZt2qT+/ftrxIgR1nquPBYKqrGwfZsxY4YqV66stLQ0paSk5Kk1ISFBL7/8sr744gul\n",
              "p6frm2++sfaxoO1J0j/+8Q+lpKQoIyNDYWFhmjx5sjWtoOWOHDmiIUOGaMmSJUpPT1eTJk3066+/\n",
              "SpIuXLigvn376u9//7uSk5O1YcMGzZw5U8nJyTpy5IgGDx6sRYsWKSMjQ97e3tZyV4qMjFR8fLwk\n",
              "afXq1apbt662bdum3bt3y93dXfXq1VO1atX0n//8R6mpqcrIyFBWVpb+/e9/S5JGjx7tEqD885//\n",
              "1MiRI3Xs2DFNnTpVmzZtUlpamhITE3XHHXfk2X6HDh0UHx+vixcvKj09XSdOnNDJkye1fv16BQcH\n",
              "y8PDw9qv1NRUpaWlaffu3Zo2bZq1jtTUVH3++ecutyGdPXtWffv21W+//aYlS5aoYsWKebZ99uxZ\n",
              "nTx50uWfLjjzbScAAGA++m0Cf0IxMTF6+OGH5ebmpi5dumj48OHavn27mjZtKinvrSV33323QkJC\n",
              "FBQUpEWLFmnHjh1au3atvvjiC7366qtKSUmRt7d3kdsNCwvT6dOntWfPHn322We66aabJEnz58/X\n",
              "Pffco2rVqqlatWq644479NVXX+mee+4p1f3u0qWLywXS119/renTpys7O1sXL17U0aNHXeYfNmyY\n",
              "pEvfNrdt21bffPONy7gWO3bskLu7uyIjIyVJnTp1kpeXV77bXrVqlR588EFVqVJFkjR8+HCtX79e\n",
              "kvTll19q165datu2rTV/uXLltG/fPvXo0UOjR4/WwYMHVblyZa1YsULvvPOOJGnp0qVKSkqyHp8+\n",
              "fVpubm55th0fH6/U1FRJUs2aNdWzZ0/Fx8erZcuWkqShQ4fKZrOpevXq1rTcb7tzvzH39vZWhQoV\n",
              "1KtXL0mXxgI5evSojh8/rsTERP344495Xq/MzEx5eXmpQoUK6tmzpySpVatW2r17d75tVBz9+vWT\n",
              "dGkcBy8vL+3Zs8elZ0CupUuXKjk5WcHBwZIuXcxf7spjoaAai9q3wnz++ed66KGHrNunLr9ALqxN\n",
              "4uLiNHfuXJ05c0ZnzpxR9erVi1xuw4YNstvt1q01AwcOtHq8ZGZm6vvvv1efPn2s9WRnZ2vbtm06\n",
              "ePCg7Ha7mjVrJunSsZAbUF0pMjJSEyZM0IgRI+Tu7q4HHnhA8fHx8vDwsMa2uXjxosaNG6f169fL\n",
              "6XTqyJEj8vPzU58+fTRgwABNmjRJhw8f1s6dO2Wz2RQWFqYLFy6oUaNGGjBggDp16qSuXbuqbt26\n",
              "+W4/Pj5evr6+CggI0B133KGEhAQlJSVZ24+Pj9egQYPk4eEhSXrkkUf0z3/+U+PGjZMkPfDAA6pc\n",
              "ubLLert27ar77rtPEydOLOil1Ouvv66XXnrJ5bnyXrULnB8AAJiNIAP4kzl//rzmzp2r8uXLKy4u\n",
              "TpL0+++/KyYmRlOnTs0zf926ddWiRQutWrVKQUFBkqQmTZqoSZMmGj58uKKiorR8+XI99dRTRW47\n",
              "d4yM2bNna9CgQWrdurXuuOMOxcTE6NChQ1ZIkJ2drZiYGN1zzz0KDg5WUlKSevTocdX7fvk4IPv2\n",
              "7dPIkSOVnJyshg0bKiMjwyVIyE9xbqEp7m02l8/ndDrVsWNH6/W40gMPPKC5c+eqRo0aioiI0O23\n",
              "324tt2jRIjVu3LhY2yxujZdPv3zsCjc3N+uxzWaTzWZTTk6OnE6nfH19XXpy5MrKypKHh4e1Tjc3\n",
              "tzyhQklcWU9Bt/I4nU6NHz9e0dHR+U6//FiQVGCNRe3bH1XQ9tavX6/33ntPSUlJqlmzppYvX65J\n",
              "kyYVuVxhnE6nbrvttnzHdlm+fLnL48KOjVatWmnr1q1atmyZIiIiFBkZqYkTJ8rDw8MKvN555x0d\n",
              "OXJE3333nSpUqKCnnnrKGsz15ptv1qBBg/Thhx9q+/btevzxx6392LBhgxITE5WQkKCWLVvqk08+\n",
              "sQYKzhUZGanx48erWbNmioyM1B133KH4+HglJSXpgw8+yLfmK/fnytddkiIiIvT111/riSeesILG\n",
              "K40fPz7POa52z4gC2woAAJiNW0uAP5nly5fLy8tL+/fvV1ZWlrKysrRhwwbNnTtX58+fzzP/iRMn\n",
              "lJqaKh8fH+3fv1/ffvutNe3YsWPas2ePGjZsWKIaBg0apA4dOui1115TamqqfvnlFx04cMCqZ/fu\n",
              "3frqq6/0yy+/6Nlnn9VHH32kzz//3Fr+0KFD+vjjj/94I/z/+1W+fHnVqlVLTqfTpct7rtxfVsnK\n",
              "ytK6devyXFg1adJEOTk51ngW8fHxBfY2iIyM1MKFC5WdnS2n06mZM2da0zp37qz4+HhlZGRYz23c\n",
              "uNH6/+DBgxUbG6vZs2dbt5VIUvfu3fXmm29aF/PHjh3Trl278t127i/P/PLLL1q8eLE6duxoTc+9\n",
              "deXo0aNasmRJvr8cU5jWrVtrz5491m0H0qUBUfMbr+NKlStX1okTJ0q0vfxUqVLFZT3du3fXjBkz\n",
              "rF4258+f1+bNm0u83sL2rUqVKjp9+nSB+3nvvfdq3rx5OnjwoKRLgWFR4y8cO3ZMlStX1u23365z\n",
              "5865jGdSmJYtWyojI8Ma52XevHlWXT4+PqpSpYrLLwXt2rVLR48eVatWrZSRkWHdavHRRx8VuD/l\n",
              "y5dXy5Yt9corrygyMlJ2u13btm1TQkKCIiIirPrvvPNOVahQQYcOHbLGE8n1+OOPa+bMmVq9erX6\n",
              "9+8v6VJwefjwYYWFhWnixIlq06ZNvq9V7dq1VbVqVc2YMUORkZEKDw/XihUrlJWVZYWskZGRmjNn\n",
              "js6dO6ecnBzNmjVLnTp1KrTtnn/+efXs2VORkZEF3lbj4eGhKlWquPyTW8nGBgIAAOagRwbwJxMT\n",
              "E2NdQORq2rSp6tSpo//85z+67bbbrDEypEv3hg8YMEDdunXT3r179fLLL2vPnj2qWLGicnJyNHDg\n",
              "QN13330lruPNN99UcHCwTp48qT59+rj8akS1atXUsWNHzZ07V0899ZS++OILvfDCCxo1apRuueUW\n",
              "Va5c+ap/KcLf3199+vSRr6+vbr/9dnXv3j3PPBcuXFBgYKBOnTql9957L8/Ppd50001asGCBRowY\n",
              "oQsXLqh58+bWuB9X6tKlizZu3KigoCBVqVLF5VYFb29vxcXFafjw4fr999917tw5BQYGWj00QkND\n",
              "5ebmpl27drlclE2bNk3PPfecHA6HypUrJ3d3d7311lt5bvN577339Nhjj8nf319Op1MvvPCCWrRo\n",
              "YU2vUaOGgoODdeLECY0cOdK6raS4br31Vn3++ed6+umnNXbsWJ0/f1716tUr1s+/jh07Vh07dlTF\n",
              "ihX13//+t1jjZOQnOjpaY8eO1bRp0/Taa6+pf//++vXXXxUeHi7p0q9UDBkyxBootbgK27fbbrtN\n",
              "Dz/8sOx2uypVqpRnnIy2bdvqxRdfVOfOnWWz2XTTTTe5DNyan6ioKM2bN08+Pj66/fbbFRkZWaxx\n",
              "aGrWrKlZs2ape/fu8vDwUMeOHVWpUiVVq1ZN7u7uWrFihcaMGaNp06bpwoULql69uuLi4lSnTh19\n",
              "9NFH6tGjh2666SZFRUVZPX7yExkZqYSEBN19992y2WwKDQ1VZmamNQDwE088oV69esnX11e1a9e2\n",
              "brvKVbduXWsA3dxbbU6cOKFevXrp1KlTstlsatSoUYGD+UZGRmrFihXWbT133nmnAgMDrfNHdHS0\n",
              "du/ebQUb7du315gxY4psvzFjxuiWW25RRESEvvrqK915551FLgMAAG5cNqfTyWhYAIxjs9l07Nix\n",
              "PD8he6Px9PTU0qVLi/Wztfhzy87OtsZ/WLp0qcaPH6/t27eXcVWuTp06JR8fH61bt876iWVTVerc\n",
              "XNX6lKz3EgAAKNrPg98o6xLokQEAwPUwffp0LViwQBcuXFCVKlVcfjL4z2DGjBl69dVXNWLECOND\n",
              "DAAAcGOjRwYAALjh0CMDAIBr48/QI4PBPgEAAAAAgDEIMgAAAAAAgDEIMgAAAAAAgDEIMgAAAAAA\n",
              "gDEIMgAAAAAAgDEIMgAAAAAAgDEIMgAAAAAAgDEIMgAAAAAAgDEIMgAAAAAAgDEIMgAAAAAAgDEI\n",
              "MgAAAAAAgDEIMgAAAAAAgDEIMgAAAAAAgDEIMgAAAAAAgDEIMgAAAAAAgDEIMgAAAAAAgDEIMgAA\n",
              "AAAAgDEIMgAAAAAAgDEIMgAAAAAAgDEIMgAAAAAAgDEIMgAAAAAAgDEIMgAAAAAAgDEIMgAAAAAA\n",
              "gDEIMgAAAAAAgDEIMgAAAAAAgDEIMgAAAAAAgDEIMgAAAAAAgDEIMgAAAAAAgDEIMgAAAAAAgDEI\n",
              "MgAAAAAAgDEIMgAAAAAAgDEIMgAAAAAAgDEIMgAAAAAAgDEIMgAAAAAAgDEIMgAAAAAAgDEIMgAA\n",
              "AAAAgDEIMgAAAAAAgDEIMgAAAAAAgDEIMgAAAAAAgDHcy7oAAACA0hbtG6Z3Br9R1mUAAIBrgB4Z\n",
              "AAAAAADAGAQZAAAAAADAGAQZAAAAAADAGAQZAAAAAADAGAQZAAAAAADAGAQZAAAAAADAGAQZAAAA\n",
              "AADAGAQZAAAAAADAGAQZAAAAAADAGAQZAAAAAADAGAQZAAAAAADAGAQZAAAAAADAGAQZAAAAAADA\n",
              "GAQZAAAAAADAGAQZAAAAAADAGAQZAAAAAADAGAQZAAAAAADAGAQZAAAAAADAGAQZAAAAAADAGAQZ\n",
              "AAAAAADAGAQZAAAAAADAGAQZAAAAAADAGAQZAAAAAADAGAQZAAAAAADAGAQZAAAAAADAGAQZAAAA\n",
              "AADAGAQZAAAAAADAGAQZAAAAAADAGAQZAAAAAADAGAQZAAAAAADAGAQZAAAAAADAGAQZAAAAAADA\n",
              "GAQZAAAAAADAGAQZAAAAAADAGAQZAAAAAADAGAQZAAAAAADAGAQZAAAAAADAGAQZAAAAAADAGAQZ\n",
              "AAAAAADAGAQZAAAAAADAGAQZAAAAAADAGAQZAAAAAADAGAQZAAAAAADAGAQZAAAAAADAGAQZAAAA\n",
              "AADAGO5lXQAAAEBpOnv2rL744gtduHBBbm5uZV3OX8qFCxe0ceNGhYaG0vbXEe1edmj7skG7l51r\n",
              "3fb169fXE088UeR8NqfT6Sz1rQMAAJSRkydPqmrVqjpx4oSqVKlS1uX8pdD2ZYN2Lzu0fdmg3cvO\n",
              "n6XtubUEAAAAAAAYgyADAAAAAAAYgyADAAAAAAAYgyADAADcUDw8PPTiiy/Kw8OjrEv5y6Htywbt\n",
              "XnZo+7JBu5edP0vbM9gnAAAAAAAwBj0yAAAAAACAMQgyAAAAAACAMQgyAAAAAACAMQgyAACAkXbu\n",
              "3KnWrVurcePGat68ub7//vt854uJiVGjRo3UsGFDPfLIIzp//vx1rvTGU5y2X716tUJDQ9WsWTP5\n",
              "+vrq2Wef1cWLF8ug2htHcY95SXI6nYqIiFC1atWuX4E3sOK2/ZYtW9S+fXs1bdpUTZs21eLFi69z\n",
              "pTeW4rT7xYsX9dRTT6lZs2ay2+0KDw/Xrl27yqDaG8fo0aPl6ekpm82mtLS0Aucry89XggwAAGCk\n",
              "4cOHKzo6Wj/88IPGjRunQYMG5Zlnz549mjhxotatW6ddu3bp8OHDmjlz5vUv9gZTnLa/9dZb9emn\n",
              "n2rbtm1KTU1VYmKi5syZc/2LvYEUp91zTZs2TQ0bNrx+xd3gitP2v//+u+677z5NmTJF27dv19at\n",
              "WxUWFnb9i72BFKfdly9frm+//Vbp6enKyMhQhw4d9Pzzz1//Ym8gvXr10vr161W/fv0C5ynrz1eC\n",
              "DAAAYJwjR44oJSVFAwYMkCTdf//9+umnn/J8C/fZZ5+pW7duuvPOO2Wz2fToo4/qk08+KYuSbxjF\n",
              "bfvAwEB5eXlJkipUqCCHw6GsrKzrXe4No7jtLknff/+9li5dqueee+56l3lDKm7bx8XFqWXLlmrT\n",
              "po0kyc3NTTVq1Lju9d4oitvuNptNZ8+e1ZkzZ+R0OnXy5EnVrVu3LEq+YbRt27bINizrz1eCDAAA\n",
              "YJyffvpJtWrVkru7u6RLf8jWq1dP+/btc5lv3759Lt8oeXp65pkHJVPctr/coUOH9Nlnn+lvf/vb\n",
              "9SrzhlPcdj9//rweeeQRffjhh3JzcyuLUm84xW37bdu2ycPDQ3/729/kcDj08MMP65dffimLkm8I\n",
              "xW33e++9V+3bt9edd96pWrVqadWqVXr55ZfLouS/lLL+fCXIAAAAwDVz8uRJ3XvvvXr22WcVEhJS\n",
              "1uXc8F566SX17NlTTZs2LetS/nJycnIUHx+vDz/8UJs3b1adOnX02GOPlXVZN7yUlBRt3bpV+/fv\n",
              "14EDB9ShQwc9+uijZV0WrjGCDAAAYJy77rpLBw8eVE5OjqRLAxvu27dP9erVc5mvXr162rt3r/U4\n",
              "KysrzzwomeK2vSRlZ2crKipK9913n5566qnrXeoNpbjtvnbtWk2fPl2enp5q06aNTp48KU9PT3oG\n",
              "XIWSnG/Cw8NVp04d2Ww2DRgwQBs2bCiLkm8IxW33OXPmWAPblitXTgMHDtSaNWvKouS/lLL+fCXI\n",
              "AAAAxqlZs6aCgoI0b948SdKiRYtUt25deXt7u8x3//33a/ny5Tp06JCcTqdmzJihPn36lEXJN4zi\n",
              "tv1vv/2mqKgoRUVFacKECWVR6g2luO2+bt067d27V1lZWVq/fr2qVKmirKwsxmq4CsVt+wcffFDJ\n",
              "yck6efKkJGnlypUKCAi47vXeKIrb7l5eXlq9erXOnTsnSVqxYoX8/Pyue71/NWX++eoEAAAw0I4d\n",
              "O5wtW7Z0NmrUyBkcHOzMyMhwOp1O59ChQ53Lli2z5ps5c6bTy8vL6eXl5RwyZIjz3LlzZVXyDaM4\n",
              "bT9lyhSnu7u7MyAgwPo3ZcqUsizbeMU95nPt2bPHWbVq1etc5Y2puG0/Z84cp6+vr9Pf398ZFRXl\n",
              "3LdvX1mVfEMoTrufOXPGOWzYMGeTJk2c/v7+zo4dOzp3795dlmUbLzo62lmnTh2nm5ubs2bNms6G\n",
              "DRs6nc4/1+erzel0Oq9fbAIAAAAAAPDHcWsJAAAAAAAwBkEGAAAAAAAwBkEGAAAAAAAwBkEGAAAA\n",
              "AAAwBkEGAAAAAAAwBkEGAAAAAAAwBkEGAAAAAAAwBkEGAAAAAAAwBkEGAAAAAAAwBkEGAAAAAAAw\n",
              "BkEGAAAAAAAwxv8HFY8X3EuY1Z4AAAAASUVORK5CYII=\n",
              "\">\n",
              "      </div>\n",
              "      <script type=\"text/javascript\">\n",
              "        (() => {\n",
              "          const chartElement = document.getElementById(\"chart-2da1c987-e5fb-4feb-a5d7-369b8fd7969f\");\n",
              "          async function getCodeForChartHandler(event) {\n",
              "            const chartCodeResponse =  await google.colab.kernel.invokeFunction(\n",
              "                'getCodeForChart', [\"chart-2da1c987-e5fb-4feb-a5d7-369b8fd7969f\"], {});\n",
              "            const responseJson = chartCodeResponse.data['application/json'];\n",
              "            await google.colab.notebook.addCell(responseJson.code, 'code');\n",
              "          }\n",
              "          chartElement.onclick = getCodeForChartHandler;\n",
              "        })();\n",
              "      </script>\n",
              "      <style>\n",
              "        .colab-quickchart-chart-with-code  {\n",
              "            display: block;\n",
              "            float: left;\n",
              "            border: 1px solid transparent;\n",
              "        }\n",
              "\n",
              "        .colab-quickchart-chart-with-code:hover {\n",
              "            cursor: pointer;\n",
              "            border: 1px solid #aaa;\n",
              "        }\n",
              "      </style>"
            ]
          },
          "metadata": {}
        }
      ]
    },
    {
      "source": [
        "# Display frequency of words using a horizontal bar chart\n",
        "from matplotlib import pyplot as plt\n",
        "import seaborn as sns\n",
        "c.groupby('abc').size().plot(kind='barh', color=sns.palettes.mpl_palette('Dark2'))\n",
        "plt.gca().spines[['top', 'right',]].set_visible(False)"
      ],
      "cell_type": "code",
      "metadata": {
        "colab": {
          "base_uri": "https://localhost:8080/",
          "height": 301
        },
        "id": "L0Rc4M7oAjhs",
        "outputId": "459c9027-59c1-4f83-ca8a-0d99d6d52043"
      },
      "execution_count": null,
      "outputs": [
        {
          "output_type": "display_data",
          "data": {
            "text/plain": [
              "<Figure size 640x480 with 1 Axes>"
            ],
            "image/png": "[encoded data removed]"
          },
          "metadata": {}
        }
      ]
    },
    {
      "cell_type": "code",
      "source": [
        "# Loading positive and negative words from files\n",
        "def read_words(file_path):\n",
        "    with open(file_path, 'r', encoding='ISO-8859-1') as file:  # Using ISO-8859-1 as suggested for compatibility\n",
        "        words = [line.strip() for line in file if line.strip()]  # Strip whitespace and skip empty lines\n",
        "    return words\n",
        "\n",
        "# Paths to the word files\n",
        "positive_words_path = \"/content/drive/MyDrive/Test Assignment/Blackcoffer Data Science/MasterDictionary-20240423T071037Z-001/MasterDictionary/positive-words.txt\"\n",
        "negative_words_path = \"/content/drive/MyDrive/Test Assignment/Blackcoffer Data Science/MasterDictionary-20240423T071037Z-001/MasterDictionary/negative-words.txt\"\n",
        "\n",
        "# Load the words using the defined function\n",
        "positive = read_words(positive_words_path)\n",
        "negative = read_words(negative_words_path)"
      ],
      "metadata": {
        "id": "KcOsO-upfnKO"
      },
      "execution_count": null,
      "outputs": []
    },
    {
      "cell_type": "code",
      "source": [
        "\n",
        "# First, confirm 'positive' and 'negative' are lists of words. If they are, convert them to DataFrames.\n",
        "# We create a DataFrame with a single column named 'abc', which will hold the words.\n",
        "\n",
        "positive_df = pd.DataFrame(positive, columns=['abc'])\n",
        "negative_df = pd.DataFrame(negative, columns=['abc'])\n",
        "\n",
        "# Now apply the 'text_process' function to the 'abc' column of each DataFrame.\n",
        "# Ensure your 'text_process' function is properly defined and accessible in your script.\n",
        "positive_df['abc'] = positive_df['abc'].apply(text_process)\n",
        "negative_df['abc'] = negative_df['abc'].apply(text_process)"
      ],
      "metadata": {
        "id": "6t9Mr7INfpEs"
      },
      "execution_count": null,
      "outputs": []
    },
    {
      "cell_type": "markdown",
      "source": [
        "**Detailed Data Processing and Metric computation steps**"
      ],
      "metadata": {
        "id": "uIAGgfymKaxo"
      }
    },
    {
      "cell_type": "code",
      "source": [
        "import string\n",
        "\n",
        "# Convert the 'positive' list to a DataFrame\n",
        "positive_df = pd.DataFrame(positive, columns=['word'])\n",
        "\n",
        "# Now you can use DataFrame methods to process this DataFrame\n",
        "length = positive_df.shape[0]\n",
        "post = []\n",
        "\n",
        "for i in range(length):\n",
        "    # Extract the word and perform operations\n",
        "    word = positive_df.iloc[i]['word']\n",
        "    nopunc = [char for char in word if char not in string.punctuation and char != '+']\n",
        "    nopunc = ''.join(nopunc)\n",
        "    post.append(nopunc)"
      ],
      "metadata": {
        "id": "zvFlcD6pfsS7"
      },
      "execution_count": null,
      "outputs": []
    },
    {
      "cell_type": "code",
      "source": [
        "import string\n",
        "\n",
        "# Convert the 'negative' list to a DataFrame\n",
        "negative_df = pd.DataFrame(negative, columns=['word'])\n",
        "\n",
        "# Now you can use DataFrame methods to process this DataFrame\n",
        "length = negative_df.shape[0]\n",
        "neg = []\n",
        "\n",
        "for i in range(length):\n",
        "    # Extract the word and perform operations\n",
        "    word = negative_df.iloc[i]['word']\n",
        "    nopunc = [char for char in word if char not in string.punctuation and char != '+']\n",
        "    nopunc = ''.join(nopunc)\n",
        "    neg.append(nopunc)\n"
      ],
      "metadata": {
        "id": "2pxBgH3nfuAg"
      },
      "execution_count": null,
      "outputs": []
    },
    {
      "cell_type": "code",
      "source": [
        "#importing tokenize library\n",
        "from nltk.tokenize import word_tokenize"
      ],
      "metadata": {
        "id": "LzUZ0-Zmfv4m"
      },
      "execution_count": null,
      "outputs": []
    },
    {
      "cell_type": "code",
      "source": [
        "txt_list=[]\n",
        "length=c.shape[0]\n",
        "for i in range(0,length):\n",
        "  txt=' '.join([word for word in c.iloc[i]])\n",
        "  txt_list.append(txt)"
      ],
      "metadata": {
        "id": "eXBga1T6fxcU"
      },
      "execution_count": null,
      "outputs": []
    },
    {
      "cell_type": "code",
      "source": [
        "#tokenization of text\n",
        "tokenize_text=[]\n",
        "for i in txt_list:\n",
        "\n",
        "  tokenize_text+=(word_tokenize(i))"
      ],
      "metadata": {
        "id": "CgGGINQef0Tp"
      },
      "execution_count": null,
      "outputs": []
    },
    {
      "cell_type": "code",
      "source": [
        "print(tokenize_text)"
      ],
      "metadata": {
        "colab": {
          "base_uri": "https://localhost:8080/"
        },
        "id": "q7JwhFr7f2B1",
        "outputId": "dc3f57d1-e4ac-40de-c95e-e52b5bbc52dc"
      },
      "execution_count": null,
      "outputs": [
        {
          "output_type": "stream",
          "name": "stdout",
          "text": [
            "['Efficient', 'Supply', 'Chain', 'Assessment', 'Overcoming', 'Technical', 'Hurdles', 'Web', 'Application', 'Development', 'ABSTRACT', 'rapid', 'development', 'Internet', 'changed', 'ways', 'work']\n"
          ]
        }
      ]
    },
    {
      "cell_type": "code",
      "source": [
        "len(tokenize_text)"
      ],
      "metadata": {
        "colab": {
          "base_uri": "https://localhost:8080/"
        },
        "id": "0CJnRJavf6jg",
        "outputId": "666ec9d8-bc9a-4725-c871-27b085fced82"
      },
      "execution_count": null,
      "outputs": [
        {
          "output_type": "execute_result",
          "data": {
            "text/plain": [
              "17"
            ]
          },
          "metadata": {},
          "execution_count": 36
        }
      ]
    },
    {
      "cell_type": "markdown",
      "source": [
        "1) Positive Score"
      ],
      "metadata": {
        "id": "QisBKRu7gJ7W"
      }
    },
    {
      "cell_type": "code",
      "source": [
        "positive_score=0\n",
        "for i in tokenize_text:\n",
        "  if(i.lower() in post):\n",
        "    positive_score+=1\n",
        "print('Postive Score=', positive_score)"
      ],
      "metadata": {
        "colab": {
          "base_uri": "https://localhost:8080/"
        },
        "id": "73OcS2Fqf9Uq",
        "outputId": "d9b594ab-8276-4c32-91ba-61ed913cd8c0"
      },
      "execution_count": null,
      "outputs": [
        {
          "output_type": "stream",
          "name": "stdout",
          "text": [
            "Postive Score= 3\n"
          ]
        }
      ]
    },
    {
      "cell_type": "markdown",
      "source": [
        "2) Negative Score"
      ],
      "metadata": {
        "id": "7g3wKElugDV7"
      }
    },
    {
      "cell_type": "code",
      "source": [
        "negative_score=0\n",
        "for i in tokenize_text:\n",
        "  if(i.lower() in neg):\n",
        "    negative_score+=1\n",
        "print('Negative Score=', negative_score)"
      ],
      "metadata": {
        "colab": {
          "base_uri": "https://localhost:8080/"
        },
        "id": "qREK-IRbgGKr",
        "outputId": "43b55c59-9cb3-4570-9456-a23ed0f38ca3"
      },
      "execution_count": null,
      "outputs": [
        {
          "output_type": "stream",
          "name": "stdout",
          "text": [
            "Negative Score= 0\n"
          ]
        }
      ]
    },
    {
      "cell_type": "markdown",
      "source": [
        "3) Polarity Score"
      ],
      "metadata": {
        "id": "5SqYOMttgQ2g"
      }
    },
    {
      "cell_type": "code",
      "source": [
        "#Polarity Score = (Positive Score – Negative Score)/ ((Positive Score + Negative Score) + 0.000001)\n",
        "Polarity_Score=(positive_score-negative_score)/((positive_score+negative_score)+0.000001)\n",
        "print('Polarity Score=', Polarity_Score)"
      ],
      "metadata": {
        "colab": {
          "base_uri": "https://localhost:8080/"
        },
        "id": "Jko8DJeEgSnw",
        "outputId": "ed85a3fa-c2b0-4d3d-ba6e-e6cb968905ba"
      },
      "execution_count": null,
      "outputs": [
        {
          "output_type": "stream",
          "name": "stdout",
          "text": [
            "Polarity Score= 0.9999996666667778\n"
          ]
        }
      ]
    },
    {
      "cell_type": "markdown",
      "source": [
        "4) Subjectivity Score"
      ],
      "metadata": {
        "id": "fzCfUEV4gTj8"
      }
    },
    {
      "cell_type": "code",
      "source": [
        "#Subjectivity Score = (Positive Score + Negative Score)/ ((Total Words after cleaning) + 0.000001)\n",
        "subjectiivity_score=(positive_score-negative_score)/((len(tokenize_text))+ 0.000001)\n",
        "print('Subjectivity Score',subjectiivity_score)"
      ],
      "metadata": {
        "colab": {
          "base_uri": "https://localhost:8080/"
        },
        "id": "01VOYbXtgZsr",
        "outputId": "4be8e5dc-023a-48f1-c86f-20139f5c4d61"
      },
      "execution_count": null,
      "outputs": [
        {
          "output_type": "stream",
          "name": "stdout",
          "text": [
            "Subjectivity Score 0.17647057785467188\n"
          ]
        }
      ]
    },
    {
      "cell_type": "markdown",
      "source": [
        "5) Avg Sentence Length"
      ],
      "metadata": {
        "id": "shoygFBGgaVn"
      }
    },
    {
      "cell_type": "code",
      "source": [
        "length=c.shape[0]\n",
        "avg_length=[]\n",
        "for i in range(0,length):\n",
        "  avg_length.append(len(c['abc'].iloc[i]))\n",
        "avg_senetence_length=sum(avg_length)/len(avg_length)\n",
        "print('Average Sentence Length=', avg_senetence_length)"
      ],
      "metadata": {
        "colab": {
          "base_uri": "https://localhost:8080/"
        },
        "id": "OTXdK-W5geyM",
        "outputId": "7a24d319-c3cc-4fe0-f4b3-5b4d28d94e09"
      },
      "execution_count": null,
      "outputs": [
        {
          "output_type": "stream",
          "name": "stdout",
          "text": [
            "Average Sentence Length= 71.5\n"
          ]
        }
      ]
    },
    {
      "cell_type": "markdown",
      "source": [
        "6) Percentage of Complex words"
      ],
      "metadata": {
        "id": "nf7VA6algfYE"
      }
    },
    {
      "cell_type": "code",
      "source": [
        "vowels=['a','e','i','o','u']\n",
        "import re\n",
        "count=0\n",
        "complex_Word_Count=0\n",
        "for i in tokenize_text:\n",
        "  x=re.compile('[es|ed]$')\n",
        "  if x.match(i.lower()):\n",
        "   count+=0\n",
        "  else:\n",
        "    for j in i:\n",
        "      if(j.lower() in vowels ):\n",
        "        count+=1\n",
        "  if(count>2):\n",
        "   complex_Word_Count+=1\n",
        "  count=0\n"
      ],
      "metadata": {
        "id": "-CfYEEAdgtQv"
      },
      "execution_count": null,
      "outputs": []
    },
    {
      "cell_type": "code",
      "source": [
        "Percentage_of_Complex_words=(complex_Word_Count/len(tokenize_text))*100\n",
        "print('Percentage of Complex Words= ',Percentage_of_Complex_words)"
      ],
      "metadata": {
        "colab": {
          "base_uri": "https://localhost:8080/"
        },
        "id": "RJQhtUG_hICU",
        "outputId": "97f09fa6-5003-480e-e411-06068b5a1d5b"
      },
      "execution_count": null,
      "outputs": [
        {
          "output_type": "stream",
          "name": "stdout",
          "text": [
            "Percentage of Complex Words=  47.05882352941176\n"
          ]
        }
      ]
    },
    {
      "cell_type": "markdown",
      "source": [
        "7) Fog Index"
      ],
      "metadata": {
        "id": "_OpvyltBgtmy"
      }
    },
    {
      "cell_type": "code",
      "source": [
        "#Fog Index = 0.4 * (Average Sentence Length + Percentage of Complex words)\n",
        "Fog_Index = 0.4 * (avg_senetence_length + Percentage_of_Complex_words/100)\n",
        "print('Fog Index= ',Fog_Index )"
      ],
      "metadata": {
        "colab": {
          "base_uri": "https://localhost:8080/"
        },
        "id": "89G5YftHgwnE",
        "outputId": "86bea38d-785e-4c59-c8ca-e7398ca686be"
      },
      "execution_count": null,
      "outputs": [
        {
          "output_type": "stream",
          "name": "stdout",
          "text": [
            "Fog Index=  28.788235294117648\n"
          ]
        }
      ]
    },
    {
      "cell_type": "markdown",
      "source": [
        "8) Avg Number of Words Per Sentence"
      ],
      "metadata": {
        "id": "L2Mg5Vj5gw5-"
      }
    },
    {
      "cell_type": "code",
      "source": [
        "length=c.shape[0]\n",
        "avg_length=[]\n",
        "for i in range(0,length):\n",
        "  a=[word.split( ) for word in c.iloc[i]]\n",
        "  avg_length.append(len(a[0]))\n",
        "  a=0\n",
        "#avg\n",
        "avg_no_of_words_per_sentence=sum(avg_length)/length\n",
        "print(\"Average Number of Words Per Sentence= \",avg_no_of_words_per_sentence)"
      ],
      "metadata": {
        "colab": {
          "base_uri": "https://localhost:8080/"
        },
        "id": "Jl0NrrmJg0qS",
        "outputId": "8f005a98-070d-4347-e915-f60dd613c6e0"
      },
      "execution_count": null,
      "outputs": [
        {
          "output_type": "stream",
          "name": "stdout",
          "text": [
            "Average Number of Words Per Sentence=  8.5\n"
          ]
        }
      ]
    },
    {
      "cell_type": "markdown",
      "source": [
        "9) Complex Word Count"
      ],
      "metadata": {
        "id": "GG4a4RUSg0-z"
      }
    },
    {
      "cell_type": "code",
      "source": [
        "vowels=['a','e','i','o','u']\n",
        "import re\n",
        "count=0\n",
        "complex_Word_Count=0\n",
        "for i in tokenize_text:\n",
        "  x=re.compile('[es|ed]$')\n",
        "  if x.match(i.lower()):\n",
        "   count+=0\n",
        "  else:\n",
        "    for j in i:\n",
        "      if(j.lower() in vowels ):\n",
        "        count+=1\n",
        "  if(count>2):\n",
        "   complex_Word_Count+=1\n",
        "  count=0\n",
        "print('Complex Words Count=',  complex_Word_Count)"
      ],
      "metadata": {
        "colab": {
          "base_uri": "https://localhost:8080/"
        },
        "id": "fcCxdM42g2-x",
        "outputId": "b391a766-af51-49a2-8592-e2e809f677e1"
      },
      "execution_count": null,
      "outputs": [
        {
          "output_type": "stream",
          "name": "stdout",
          "text": [
            "Complex Words Count= 8\n"
          ]
        }
      ]
    },
    {
      "cell_type": "markdown",
      "source": [
        "10) Word Count"
      ],
      "metadata": {
        "id": "OBBtnxv4g3gK"
      }
    },
    {
      "cell_type": "code",
      "source": [
        "word_count=len(tokenize_text)\n",
        "print('Word Count= ', word_count)"
      ],
      "metadata": {
        "colab": {
          "base_uri": "https://localhost:8080/"
        },
        "id": "utQ9V4X-g533",
        "outputId": "aff560f8-8313-4f44-fc46-13538713c3e7"
      },
      "execution_count": null,
      "outputs": [
        {
          "output_type": "stream",
          "name": "stdout",
          "text": [
            "Word Count=  17\n"
          ]
        }
      ]
    },
    {
      "cell_type": "markdown",
      "source": [
        "11) Syllable Per Word"
      ],
      "metadata": {
        "id": "AGlkcroog6Sy"
      }
    },
    {
      "cell_type": "code",
      "source": [
        "vowels=['a','e','i','o','u']\n",
        "import re\n",
        "count=0\n",
        "for i in tokenize_text:\n",
        "  x=re.compile('[es|ed]$')\n",
        "  if x.match(i.lower()):\n",
        "   count+=0\n",
        "  else:\n",
        "    for j in i:\n",
        "      if(j.lower() in vowels ):\n",
        "        count+=1\n",
        "syllable_count=count\n",
        "print('Syllable Per Word= ',syllable_count)"
      ],
      "metadata": {
        "colab": {
          "base_uri": "https://localhost:8080/"
        },
        "id": "ZE8dX4rYg8xg",
        "outputId": "23fa7e7d-ea4d-4b4e-9b12-ca2b73e3af37"
      },
      "execution_count": null,
      "outputs": [
        {
          "output_type": "stream",
          "name": "stdout",
          "text": [
            "Syllable Per Word=  44\n"
          ]
        }
      ]
    },
    {
      "cell_type": "markdown",
      "source": [
        "12) Personal Pronouns"
      ],
      "metadata": {
        "id": "iTrU4ZnDg9ay"
      }
    },
    {
      "cell_type": "code",
      "source": [
        "pronouns=['i','we','my','ours','us' ]\n",
        "import re\n",
        "count=0\n",
        "for i in tokenize_text:\n",
        "  if i.lower() in pronouns:\n",
        "   count+=1\n",
        "personal_pronouns=count\n",
        "print('Personal Pronouns= ',personal_pronouns )"
      ],
      "metadata": {
        "colab": {
          "base_uri": "https://localhost:8080/"
        },
        "id": "AEcjiwtlg_lL",
        "outputId": "5c64f2a9-358a-4fa8-c28f-ece384364dd3"
      },
      "execution_count": null,
      "outputs": [
        {
          "output_type": "stream",
          "name": "stdout",
          "text": [
            "Personal Pronouns=  0\n"
          ]
        }
      ]
    },
    {
      "cell_type": "markdown",
      "source": [
        "13) Avg Word Length"
      ],
      "metadata": {
        "id": "iktqbm2Mg_9m"
      }
    },
    {
      "cell_type": "code",
      "source": [
        "count=0\n",
        "for i in tokenize_text:\n",
        "  for j in i:\n",
        "    count+=1\n",
        "avg_word_length=count/len(tokenize_text)\n",
        "print('Average Words= ', avg_word_length)"
      ],
      "metadata": {
        "colab": {
          "base_uri": "https://localhost:8080/"
        },
        "id": "gTQ5uP8YhPwv",
        "outputId": "7388b3e9-24cf-427c-8ceb-ed2643340e40"
      },
      "execution_count": null,
      "outputs": [
        {
          "output_type": "stream",
          "name": "stdout",
          "text": [
            "Average Words=  7.529411764705882\n"
          ]
        }
      ]
    },
    {
      "cell_type": "markdown",
      "source": [
        "# **Compile all results into a DataFrame and save it to CSV**"
      ],
      "metadata": {
        "id": "Orz-9BgkKsx4"
      }
    },
    {
      "cell_type": "code",
      "source": [
        "data_df =pd.DataFrame({'positive_score':[positive_score],'negative_score':[negative_score],'Polarity_Score':[Polarity_Score],'subjectiivity_score':[subjectiivity_score],'avg_senetence_length':[avg_senetence_length],'Percentage_of_Complex_words':[Percentage_of_Complex_words],'Fog_Index':[Fog_Index],'avg_no_of_words_per_sentence':[avg_no_of_words_per_sentence],'complex_Word_Count':[complex_Word_Count],'word_count':[word_count],'syllable_count':[syllable_count],'personal_pronouns':[personal_pronouns],'avg_word_length':[avg_word_length]})\n",
        "\n",
        "output=pd.DataFrame()\n",
        "output = pd.concat([output, data_df], ignore_index=True)\n",
        "output.columns=['positive_score','negative_score','Polarity_Score','subjectiivity_score','avg_senetence_length','Percentage_of_Complex_words','Fog_Index','avg_no_of_words_per_sentence','complex_Word_Count','word_count','syllable_count','personal_pronouns','avg_word_length']\n",
        "output_csv_path = 'output.csv'\n",
        "output.to_csv(output_csv_path, index=False, header=True)\n",
        "\n",
        "from google.colab import files\n",
        "files.download(output_csv_path)"
      ],
      "metadata": {
        "colab": {
          "base_uri": "https://localhost:8080/",
          "height": 17
        },
        "id": "zEothm9ChThy",
        "outputId": "2864d4a0-c3de-4b40-bd40-269b6cababfc"
      },
      "execution_count": null,
      "outputs": [
        {
          "output_type": "display_data",
          "data": {
            "text/plain": [
              "<IPython.core.display.Javascript object>"
            ],
            "application/javascript": [
              "\n",
              "    async function download(id, filename, size) {\n",
              "      if (!google.colab.kernel.accessAllowed) {\n",
              "        return;\n",
              "      }\n",
              "      const div = document.createElement('div');\n",
              "      const label = document.createElement('label');\n",
              "      label.textContent = `Downloading \"${filename}\": `;\n",
              "      div.appendChild(label);\n",
              "      const progress = document.createElement('progress');\n",
              "      progress.max = size;\n",
              "      div.appendChild(progress);\n",
              "      document.body.appendChild(div);\n",
              "\n",
              "      const buffers = [];\n",
              "      let downloaded = 0;\n",
              "\n",
              "      const channel = await google.colab.kernel.comms.open(id);\n",
              "      // Send a message to notify the kernel that we're ready.\n",
              "      channel.send({})\n",
              "\n",
              "      for await (const message of channel.messages) {\n",
              "        // Send a message to notify the kernel that we're ready.\n",
              "        channel.send({})\n",
              "        if (message.buffers) {\n",
              "          for (const buffer of message.buffers) {\n",
              "            buffers.push(buffer);\n",
              "            downloaded += buffer.byteLength;\n",
              "            progress.value = downloaded;\n",
              "          }\n",
              "        }\n",
              "      }\n",
              "      const blob = new Blob(buffers, {type: 'application/binary'});\n",
              "      const a = document.createElement('a');\n",
              "      a.href = window.URL.createObjectURL(blob);\n",
              "      a.download = filename;\n",
              "      div.appendChild(a);\n",
              "      a.click();\n",
              "      div.remove();\n",
              "    }\n",
              "  "
            ]
          },
          "metadata": {}
        },
        {
          "output_type": "display_data",
          "data": {
            "text/plain": [
              "<IPython.core.display.Javascript object>"
            ],
            "application/javascript": [
              "download(\"download_a9d09d01-8224-4e0b-8838-d054c5a48933\", \"output.csv\", 349)"
            ]
          },
          "metadata": {}
        }
      ]
    }
  ]
}